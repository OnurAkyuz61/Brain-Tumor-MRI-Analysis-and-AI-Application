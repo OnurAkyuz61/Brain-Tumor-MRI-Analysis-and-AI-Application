{
 "cells": [
  {
   "cell_type": "markdown",
   "metadata": {},
   "source": [
    "!/usr/bin/env python\n"
   ]
  },
  {
   "cell_type": "markdown",
   "metadata": {},
   "source": [
    "coding: utf-8\n"
   ]
  },
  {
   "cell_type": "markdown",
   "metadata": {},
   "source": [
    "# Beyin Tümörü MRI Sınıflandırma Modeli Geliştirme\n"
   ]
  },
  {
   "cell_type": "markdown",
   "metadata": {},
   "source": [
    "\n"
   ]
  },
  {
   "cell_type": "markdown",
   "metadata": {},
   "source": [
    "Bu notebook, beyin tümörü MRI görüntülerini dört kategoriye sınıflandırmak için derin öğrenme modeli geliştirmeye odaklanmaktadır: Glioma, Meningioma, No tumor ve Pituitary.\n"
   ]
  },
  {
   "cell_type": "markdown",
   "metadata": {},
   "source": [
    "## Gerekli Kütüphaneleri İçe Aktarma\n"
   ]
  },
  {
   "cell_type": "code",
   "execution_count": 1,
   "metadata": {},
   "outputs": [
    {
     "ename": "ModuleNotFoundError",
     "evalue": "No module named 'cv2'",
     "output_type": "error",
     "traceback": [
      "\u001b[0;31m---------------------------------------------------------------------------\u001b[0m",
      "\u001b[0;31mModuleNotFoundError\u001b[0m                       Traceback (most recent call last)",
      "Cell \u001b[0;32mIn[1], line 6\u001b[0m\n\u001b[1;32m      4\u001b[0m \u001b[38;5;28;01mimport\u001b[39;00m \u001b[38;5;21;01mmatplotlib\u001b[39;00m\u001b[38;5;21;01m.\u001b[39;00m\u001b[38;5;21;01mpyplot\u001b[39;00m \u001b[38;5;28;01mas\u001b[39;00m \u001b[38;5;21;01mplt\u001b[39;00m\n\u001b[1;32m      5\u001b[0m \u001b[38;5;28;01mimport\u001b[39;00m \u001b[38;5;21;01mseaborn\u001b[39;00m \u001b[38;5;28;01mas\u001b[39;00m \u001b[38;5;21;01msns\u001b[39;00m\n\u001b[0;32m----> 6\u001b[0m \u001b[38;5;28;01mimport\u001b[39;00m \u001b[38;5;21;01mcv2\u001b[39;00m\n\u001b[1;32m      7\u001b[0m \u001b[38;5;28;01mfrom\u001b[39;00m \u001b[38;5;21;01mPIL\u001b[39;00m \u001b[38;5;28;01mimport\u001b[39;00m Image\n\u001b[1;32m      8\u001b[0m \u001b[38;5;28;01mimport\u001b[39;00m \u001b[38;5;21;01mrandom\u001b[39;00m\n",
      "\u001b[0;31mModuleNotFoundError\u001b[0m: No module named 'cv2'"
     ]
    }
   ],
   "source": [
    "import os\n",
    "import numpy as np\n",
    "import pandas as pd\n",
    "import matplotlib.pyplot as plt\n",
    "import seaborn as sns\n",
    "import cv2\n",
    "from PIL import Image\n",
    "import random\n",
    "from pathlib import Path\n",
    "import tensorflow as tf\n",
    "from tensorflow.keras import layers, models, applications, optimizers\n",
    "from tensorflow.keras.preprocessing.image import ImageDataGenerator\n",
    "from sklearn.metrics import classification_report, confusion_matrix\n",
    "from tqdm.notebook import tqdm\n",
    "\n"
   ]
  },
  {
   "cell_type": "markdown",
   "metadata": {},
   "source": [
    "Tekrarlanabilirlik için rastgele sayı üretecini ayarlama\n"
   ]
  },
  {
   "cell_type": "code",
   "execution_count": null,
   "metadata": {},
   "outputs": [],
   "source": [
    "np.random.seed(42)\n",
    "tf.random.set_seed(42)\n",
    "random.seed(42)\n",
    "\n"
   ]
  },
  {
   "cell_type": "markdown",
   "metadata": {},
   "source": [
    "Grafik stilini ayarlama\n"
   ]
  },
  {
   "cell_type": "code",
   "execution_count": null,
   "metadata": {},
   "outputs": [],
   "source": [
    "plt.style.use('fivethirtyeight')\n",
    "sns.set(style='whitegrid')\n",
    "plt.rcParams['figure.figsize'] = (12, 8)\n",
    "\n"
   ]
  },
  {
   "cell_type": "markdown",
   "metadata": {},
   "source": [
    "## Veri Hazırlama\n"
   ]
  },
  {
   "cell_type": "markdown",
   "metadata": {},
   "source": [
    "Sabitleri tanımlama\n"
   ]
  },
  {
   "cell_type": "code",
   "execution_count": null,
   "metadata": {},
   "outputs": [],
   "source": [
    "DATA_DIR = Path('/Users/onurakyuz/Desktop/Brain Tumor MRI/data')\n",
    "IMG_SIZE = (224, 224)  # Birçok CNN mimarisi için standart boyut\n",
    "BATCH_SIZE = 32\n",
    "EPOCHS = 20\n",
    "\n"
   ]
  },
  {
   "cell_type": "markdown",
   "metadata": {},
   "source": [
    "Veri setinin var olup olmadığını kontrol etme\n"
   ]
  },
  {
   "cell_type": "code",
   "execution_count": null,
   "metadata": {},
   "outputs": [],
   "source": [
    "if not DATA_DIR.exists():\n",
    "    print(\"Veri seti bulunamadı. Lütfen Kaggle'dan indirip data dizinine yerleştirin.\")\n",
    "else:\n",
    "    print(\"Veri seti bulundu!\")\n",
    "\n"
   ]
  },
  {
   "cell_type": "markdown",
   "metadata": {},
   "source": [
    "## Veri Artırma ve Yükleme\n"
   ]
  },
  {
   "cell_type": "markdown",
   "metadata": {},
   "source": [
    "Eğitim seti için veri artırma\n"
   ]
  },
  {
   "cell_type": "code",
   "execution_count": null,
   "metadata": {},
   "outputs": [],
   "source": [
    "train_datagen = ImageDataGenerator(\n",
    "    rescale=1./255,  # Piksel değerlerini [0, 1] aralığına normalize etme\n",
    "    rotation_range=20,  # Rastgele döndürme (±20 derece)\n",
    "    width_shift_range=0.2,  # Yatay kaydırma\n",
    "    height_shift_range=0.2,  # Dikey kaydırma\n",
    "    shear_range=0.2,  # Kesme dönüşümü\n",
    "    zoom_range=0.2,  # Yakınlaştırma\n",
    "    horizontal_flip=True,  # Yatay çevirme\n",
    "    fill_mode='nearest'  # Dönüşümlerden sonra boşlukları doldurma yöntemi\n",
    ")\n",
    "\n"
   ]
  },
  {
   "cell_type": "markdown",
   "metadata": {},
   "source": [
    "Test/doğrulama seti için sadece yeniden ölçeklendirme\n"
   ]
  },
  {
   "cell_type": "code",
   "execution_count": null,
   "metadata": {},
   "outputs": [],
   "source": [
    "test_datagen = ImageDataGenerator(rescale=1./255)\n",
    "\n"
   ]
  },
  {
   "cell_type": "markdown",
   "metadata": {},
   "source": [
    "Veri artırma ile eğitim verilerini yükleme\n"
   ]
  },
  {
   "cell_type": "code",
   "execution_count": null,
   "metadata": {},
   "outputs": [],
   "source": [
    "train_generator = train_datagen.flow_from_directory(\n",
    "    DATA_DIR / 'Training',\n",
    "    target_size=IMG_SIZE,\n",
    "    batch_size=BATCH_SIZE,\n",
    "    class_mode='categorical',\n",
    "    shuffle=True\n",
    ")\n",
    "\n"
   ]
  },
  {
   "cell_type": "markdown",
   "metadata": {},
   "source": [
    "Test verilerini yükleme\n"
   ]
  },
  {
   "cell_type": "code",
   "execution_count": null,
   "metadata": {},
   "outputs": [],
   "source": [
    "test_generator = test_datagen.flow_from_directory(\n",
    "    DATA_DIR / 'Testing',\n",
    "    target_size=IMG_SIZE,\n",
    "    batch_size=BATCH_SIZE,\n",
    "    class_mode='categorical',\n",
    "    shuffle=False\n",
    ")\n",
    "\n"
   ]
  },
  {
   "cell_type": "markdown",
   "metadata": {},
   "source": [
    "Sınıf adlarını alma\n"
   ]
  },
  {
   "cell_type": "code",
   "execution_count": null,
   "metadata": {},
   "outputs": [],
   "source": [
    "class_names = list(train_generator.class_indices.keys())\n",
    "print(f\"Sınıf adları: {class_names}\")\n",
    "\n"
   ]
  },
  {
   "cell_type": "markdown",
   "metadata": {},
   "source": [
    "## Veri Artırma Örneklerini Görselleştirme\n"
   ]
  },
  {
   "cell_type": "code",
   "execution_count": null,
   "metadata": {},
   "outputs": [],
   "source": [
    "def visualize_data_augmentation():\n",
    "    # Bir batch veri alma\n",
    "    x_batch, y_batch = next(train_generator)\n",
    "    \n",
    "    # Rastgele 5 görüntü seçme\n",
    "    fig, axes = plt.subplots(3, 5, figsize=(20, 12))\n",
    "    \n",
    "    for i in range(3):\n",
    "        for j in range(5):\n",
    "            if i == 0 and j == 0:\n",
    "                # Orijinal görüntüyü gösterme (veri artırma olmadan)\n",
    "                img_path = random.choice(list((DATA_DIR / 'Training' / class_names[np.argmax(y_batch[0])]).glob('*.jpg')))\n",
    "                img = cv2.imread(str(img_path))\n",
    "                img = cv2.cvtColor(img, cv2.COLOR_BGR2RGB)\n",
    "                img = cv2.resize(img, IMG_SIZE)\n",
    "                img = img / 255.0\n",
    "                axes[i, j].imshow(img)\n",
    "                axes[i, j].set_title('Orijinal Görüntü', fontsize=12)\n",
    "            else:\n",
    "                # Artırılmış görüntüleri gösterme\n",
    "                idx = i * 5 + j if i > 0 or j > 0 else 1\n",
    "                axes[i, j].imshow(x_batch[idx])\n",
    "                axes[i, j].set_title(f'Artırılmış Görüntü {idx}', fontsize=12)\n",
    "            \n",
    "            axes[i, j].axis('off')\n",
    "    \n",
    "    plt.tight_layout()\n",
    "    plt.suptitle('Veri Artırma Örnekleri', fontsize=16, y=1.02)\n",
    "    plt.show()\n",
    "\n"
   ]
  },
  {
   "cell_type": "markdown",
   "metadata": {},
   "source": [
    "Veri artırma örneklerini görselleştirme\n"
   ]
  },
  {
   "cell_type": "code",
   "execution_count": null,
   "metadata": {},
   "outputs": [],
   "source": [
    "visualize_data_augmentation()\n",
    "\n"
   ]
  },
  {
   "cell_type": "markdown",
   "metadata": {},
   "source": [
    "## Model Mimarisi\n"
   ]
  },
  {
   "cell_type": "code",
   "execution_count": null,
   "metadata": {},
   "outputs": [],
   "source": [
    "def create_model(input_shape=(224, 224, 3), num_classes=4):\n",
    "    # Temel model olarak önceden eğitilmiş bir model kullanma\n",
    "    base_model = applications.MobileNetV2(\n",
    "        input_shape=input_shape,\n",
    "        include_top=False,  # Üst katmanları (sınıflandırma katmanları) hariç tutma\n",
    "        weights='imagenet'  # ImageNet ağırlıklarını kullanma\n",
    "    )\n",
    "    \n",
    "    # Temel model katmanlarını dondurma (eğitim sırasında güncellenmeyecek)\n",
    "    base_model.trainable = False\n",
    "    \n",
    "    # Modeli oluşturma\n",
    "    model = models.Sequential([\n",
    "        base_model,\n",
    "        layers.GlobalAveragePooling2D(),  # Özellik haritalarını düzleştirme\n",
    "        layers.Dense(128, activation='relu'),  # Tam bağlantılı katman\n",
    "        layers.Dropout(0.5),  # Aşırı öğrenmeyi önlemek için dropout\n",
    "        layers.Dense(num_classes, activation='softmax')  # Çıkış katmanı\n",
    "    ])\n",
    "    \n",
    "    # Modeli derleme\n",
    "    model.compile(\n",
    "        optimizer=optimizers.Adam(learning_rate=0.001),\n",
    "        loss='categorical_crossentropy',\n",
    "        metrics=['accuracy']\n",
    "    )\n",
    "    \n",
    "    return model\n",
    "\n"
   ]
  },
  {
   "cell_type": "markdown",
   "metadata": {},
   "source": [
    "Modeli oluşturma\n"
   ]
  },
  {
   "cell_type": "code",
   "execution_count": null,
   "metadata": {},
   "outputs": [],
   "source": [
    "model = create_model(input_shape=IMG_SIZE + (3,), num_classes=len(class_names))\n",
    "model.summary()\n",
    "\n"
   ]
  },
  {
   "cell_type": "markdown",
   "metadata": {},
   "source": [
    "## Model Mimarisini Görselleştirme\n"
   ]
  },
  {
   "cell_type": "code",
   "execution_count": null,
   "metadata": {},
   "outputs": [],
   "source": [
    "def visualize_model_architecture(model):\n",
    "    # Model mimarisini görselleştirme\n",
    "    tf.keras.utils.plot_model(\n",
    "        model,\n",
    "        to_file='model_architecture.png',\n",
    "        show_shapes=True,\n",
    "        show_layer_names=True,\n",
    "        rankdir='TB'\n",
    "    )\n",
    "    \n",
    "    # Görüntüyü gösterme\n",
    "    plt.figure(figsize=(12, 12))\n",
    "    img = plt.imread('model_architecture.png')\n",
    "    plt.imshow(img)\n",
    "    plt.axis('off')\n",
    "    plt.title('Model Mimarisi', fontsize=16)\n",
    "    plt.show()\n",
    "\n"
   ]
  },
  {
   "cell_type": "markdown",
   "metadata": {},
   "source": [
    "Model mimarisini görselleştirme (TensorFlow 2.0+ ve pydot/graphviz gerektirir)\n"
   ]
  },
  {
   "cell_type": "code",
   "execution_count": null,
   "metadata": {},
   "outputs": [],
   "source": [
    "try:\n",
    "    visualize_model_architecture(model)\n",
    "except Exception as e:\n",
    "    print(f\"Model mimarisi görselleştirilemedi: {e}\")\n",
    "    print(\"Bu özellik için 'pydot' ve 'graphviz' paketlerinin yüklenmesi gerekebilir.\")\n",
    "\n"
   ]
  },
  {
   "cell_type": "markdown",
   "metadata": {},
   "source": [
    "## Model Eğitimi\n"
   ]
  },
  {
   "cell_type": "markdown",
   "metadata": {},
   "source": [
    "Geri çağırmaları tanımlama\n"
   ]
  },
  {
   "cell_type": "code",
   "execution_count": null,
   "metadata": {},
   "outputs": [],
   "source": [
    "callbacks = [\n",
    "    # Erken durdurma: Doğrulama kaybı 5 epoch boyunca iyileşmezse eğitimi durdurma\n",
    "    tf.keras.callbacks.EarlyStopping(\n",
    "        patience=5,\n",
    "        restore_best_weights=True  # En iyi ağırlıkları geri yükleme\n",
    "    ),\n",
    "    # Öğrenme oranını azaltma: Doğrulama kaybı 3 epoch boyunca iyileşmezse öğrenme oranını azaltma\n",
    "    tf.keras.callbacks.ReduceLROnPlateau(\n",
    "        factor=0.1,  # Öğrenme oranını 10 kat azaltma\n",
    "        patience=3,\n",
    "        min_lr=1e-6  # Minimum öğrenme oranı\n",
    "    ),\n",
    "    # Model kontrol noktası: En iyi modeli kaydetme\n",
    "    tf.keras.callbacks.ModelCheckpoint(\n",
    "        filepath='../models/brain_tumor_model.h5',\n",
    "        save_best_only=True,  # Sadece en iyi modeli kaydetme\n",
    "        monitor='val_accuracy'  # Doğrulama doğruluğuna göre izleme\n",
    "    )\n",
    "]\n",
    "\n"
   ]
  },
  {
   "cell_type": "markdown",
   "metadata": {},
   "source": [
    "Modeli eğitme\n"
   ]
  },
  {
   "cell_type": "code",
   "execution_count": null,
   "metadata": {},
   "outputs": [],
   "source": [
    "history = model.fit(\n",
    "    train_generator,\n",
    "    epochs=EPOCHS,\n",
    "    validation_data=test_generator,\n",
    "    callbacks=callbacks\n",
    ")\n",
    "\n"
   ]
  },
  {
   "cell_type": "markdown",
   "metadata": {},
   "source": [
    "## Eğitim Performansını Değerlendirme\n"
   ]
  },
  {
   "cell_type": "markdown",
   "metadata": {},
   "source": [
    "Eğitim geçmişini çizme\n"
   ]
  },
  {
   "cell_type": "code",
   "execution_count": null,
   "metadata": {},
   "outputs": [],
   "source": [
    "def plot_training_history(history):\n",
    "    fig, axes = plt.subplots(1, 2, figsize=(18, 6))\n",
    "    \n",
    "    # Doğruluk grafiği\n",
    "    axes[0].plot(history.history['accuracy'], label='Eğitim Doğruluğu')\n",
    "    axes[0].plot(history.history['val_accuracy'], label='Doğrulama Doğruluğu')\n",
    "    axes[0].set_title('Model Doğruluğu', fontsize=16)\n",
    "    axes[0].set_xlabel('Epoch', fontsize=14)\n",
    "    axes[0].set_ylabel('Doğruluk', fontsize=14)\n",
    "    axes[0].legend(fontsize=12)\n",
    "    axes[0].grid(True)\n",
    "    \n",
    "    # Kayıp grafiği\n",
    "    axes[1].plot(history.history['loss'], label='Eğitim Kaybı')\n",
    "    axes[1].plot(history.history['val_loss'], label='Doğrulama Kaybı')\n",
    "    axes[1].set_title('Model Kaybı', fontsize=16)\n",
    "    axes[1].set_xlabel('Epoch', fontsize=14)\n",
    "    axes[1].set_ylabel('Kayıp', fontsize=14)\n",
    "    axes[1].legend(fontsize=12)\n",
    "    axes[1].grid(True)\n",
    "    \n",
    "    plt.tight_layout()\n",
    "    plt.show()\n",
    "\n"
   ]
  },
  {
   "cell_type": "markdown",
   "metadata": {},
   "source": [
    "Eğitim geçmişini çizme\n"
   ]
  },
  {
   "cell_type": "code",
   "execution_count": null,
   "metadata": {},
   "outputs": [],
   "source": [
    "plot_training_history(history)\n",
    "\n"
   ]
  },
  {
   "cell_type": "markdown",
   "metadata": {},
   "source": [
    "## Test Setinde Modeli Değerlendirme\n"
   ]
  },
  {
   "cell_type": "markdown",
   "metadata": {},
   "source": [
    "Test setinde modeli değerlendirme\n"
   ]
  },
  {
   "cell_type": "code",
   "execution_count": null,
   "metadata": {},
   "outputs": [],
   "source": [
    "test_loss, test_acc = model.evaluate(test_generator)\n",
    "print(f\"Test doğruluğu: {test_acc:.4f}\")\n",
    "print(f\"Test kaybı: {test_loss:.4f}\")\n",
    "\n"
   ]
  },
  {
   "cell_type": "markdown",
   "metadata": {},
   "source": [
    "## Sınıflandırma Raporu ve Karışıklık Matrisi\n"
   ]
  },
  {
   "cell_type": "markdown",
   "metadata": {},
   "source": [
    "Tahminleri alma\n"
   ]
  },
  {
   "cell_type": "code",
   "execution_count": null,
   "metadata": {},
   "outputs": [],
   "source": [
    "test_generator.reset()\n",
    "y_pred = model.predict(test_generator)\n",
    "y_pred_classes = np.argmax(y_pred, axis=1)\n",
    "\n"
   ]
  },
  {
   "cell_type": "markdown",
   "metadata": {},
   "source": [
    "Gerçek etiketleri alma\n"
   ]
  },
  {
   "cell_type": "code",
   "execution_count": null,
   "metadata": {},
   "outputs": [],
   "source": [
    "y_true = test_generator.classes\n",
    "\n"
   ]
  },
  {
   "cell_type": "markdown",
   "metadata": {},
   "source": [
    "Sınıflandırma raporunu yazdırma\n"
   ]
  },
  {
   "cell_type": "code",
   "execution_count": null,
   "metadata": {},
   "outputs": [],
   "source": [
    "print(\"Sınıflandırma Raporu:\")\n",
    "print(classification_report(y_true, y_pred_classes, target_names=class_names))\n",
    "\n"
   ]
  },
  {
   "cell_type": "markdown",
   "metadata": {},
   "source": [
    "Karışıklık matrisini çizme\n"
   ]
  },
  {
   "cell_type": "code",
   "execution_count": null,
   "metadata": {},
   "outputs": [],
   "source": [
    "plt.figure(figsize=(10, 8))\n",
    "cm = confusion_matrix(y_true, y_pred_classes)\n",
    "sns.heatmap(cm, annot=True, fmt='d', cmap='Blues', xticklabels=class_names, yticklabels=class_names)\n",
    "plt.title('Karışıklık Matrisi', fontsize=16)\n",
    "plt.xlabel('Tahmin Edilen Etiket', fontsize=14)\n",
    "plt.ylabel('Gerçek Etiket', fontsize=14)\n",
    "plt.tight_layout()\n",
    "plt.show()\n",
    "\n"
   ]
  },
  {
   "cell_type": "markdown",
   "metadata": {},
   "source": [
    "## Model İnce Ayarı (Fine-tuning)\n"
   ]
  },
  {
   "cell_type": "markdown",
   "metadata": {},
   "source": [
    "Temel modelin bazı katmanlarını ince ayar için çözme\n"
   ]
  },
  {
   "cell_type": "code",
   "execution_count": null,
   "metadata": {},
   "outputs": [],
   "source": [
    "def fine_tune_model(model):\n",
    "    # Temel modelin üst katmanlarını çözme\n",
    "    base_model = model.layers[0]\n",
    "    base_model.trainable = True\n",
    "    \n",
    "    # Son 30 katman hariç tüm katmanları dondurma\n",
    "    for layer in base_model.layers[:-30]:\n",
    "        layer.trainable = False\n",
    "    \n",
    "    # Modeli daha düşük bir öğrenme oranıyla yeniden derleme\n",
    "    model.compile(\n",
    "        optimizer=optimizers.Adam(learning_rate=1e-5),\n",
    "        loss='categorical_crossentropy',\n",
    "        metrics=['accuracy']\n",
    "    )\n",
    "    \n",
    "    return model\n",
    "\n"
   ]
  },
  {
   "cell_type": "markdown",
   "metadata": {},
   "source": [
    "Modeli ince ayarlama\n"
   ]
  },
  {
   "cell_type": "code",
   "execution_count": null,
   "metadata": {},
   "outputs": [],
   "source": [
    "fine_tuned_model = fine_tune_model(model)\n",
    "\n"
   ]
  },
  {
   "cell_type": "markdown",
   "metadata": {},
   "source": [
    "Eğitilebilir parametrelerin sayısını gösterme\n"
   ]
  },
  {
   "cell_type": "code",
   "execution_count": null,
   "metadata": {},
   "outputs": [],
   "source": [
    "print(f\"Toplam parametre: {fine_tuned_model.count_params():,}\")\n",
    "print(f\"Eğitilebilir parametre: {sum([np.prod(v.get_shape()) for v in fine_tuned_model.trainable_weights]):,}\")\n",
    "print(f\"Eğitilemez parametre: {sum([np.prod(v.get_shape()) for v in fine_tuned_model.non_trainable_weights]):,}\")\n",
    "\n"
   ]
  },
  {
   "cell_type": "markdown",
   "metadata": {},
   "source": [
    "Birkaç epoch daha eğitme\n"
   ]
  },
  {
   "cell_type": "code",
   "execution_count": null,
   "metadata": {},
   "outputs": [],
   "source": [
    "fine_tune_history = fine_tuned_model.fit(\n",
    "    train_generator,\n",
    "    epochs=10,\n",
    "    validation_data=test_generator,\n",
    "    callbacks=callbacks\n",
    ")\n",
    "\n"
   ]
  },
  {
   "cell_type": "markdown",
   "metadata": {},
   "source": [
    "İnce ayar eğitim geçmişini çizme\n"
   ]
  },
  {
   "cell_type": "code",
   "execution_count": null,
   "metadata": {},
   "outputs": [],
   "source": [
    "plot_training_history(fine_tune_history)\n",
    "\n"
   ]
  },
  {
   "cell_type": "markdown",
   "metadata": {},
   "source": [
    "## Modeli Kaydetme\n"
   ]
  },
  {
   "cell_type": "markdown",
   "metadata": {},
   "source": [
    "models dizini yoksa oluşturma\n"
   ]
  },
  {
   "cell_type": "code",
   "execution_count": null,
   "metadata": {},
   "outputs": [],
   "source": [
    "os.makedirs('../models', exist_ok=True)\n",
    "\n"
   ]
  },
  {
   "cell_type": "markdown",
   "metadata": {},
   "source": [
    "Modeli kaydetme\n"
   ]
  },
  {
   "cell_type": "code",
   "execution_count": null,
   "metadata": {},
   "outputs": [],
   "source": [
    "model.save('../models/brain_tumor_model.h5')\n",
    "print(\"Model başarıyla kaydedildi!\")\n",
    "\n"
   ]
  },
  {
   "cell_type": "markdown",
   "metadata": {},
   "source": [
    "Sınıf adlarını kaydetme\n"
   ]
  },
  {
   "cell_type": "code",
   "execution_count": null,
   "metadata": {},
   "outputs": [],
   "source": [
    "import json\n",
    "with open('../models/class_names.json', 'w') as f:\n",
    "    json.dump(class_names, f)\n",
    "print(\"Sınıf adları başarıyla kaydedildi!\")\n",
    "\n"
   ]
  },
  {
   "cell_type": "markdown",
   "metadata": {},
   "source": [
    "## Örnek Görüntüler Üzerinde Modeli Test Etme\n"
   ]
  },
  {
   "cell_type": "code",
   "execution_count": null,
   "metadata": {},
   "outputs": [],
   "source": [
    "def predict_image(model, img_path, class_names):\n",
    "    # Görüntüyü okuma ve ön işleme\n",
    "    img = cv2.imread(str(img_path))\n",
    "    img = cv2.cvtColor(img, cv2.COLOR_BGR2RGB)\n",
    "    img_resized = cv2.resize(img, IMG_SIZE)\n",
    "    img_normalized = img_resized / 255.0\n",
    "    img_batch = np.expand_dims(img_normalized, axis=0)\n",
    "    \n",
    "    # Tahmin yapma\n",
    "    prediction = model.predict(img_batch)[0]\n",
    "    predicted_class = np.argmax(prediction)\n",
    "    predicted_label = class_names[predicted_class]\n",
    "    confidence = prediction[predicted_class]\n",
    "    \n",
    "    # Görüntüyü ve tahmini gösterme\n",
    "    plt.figure(figsize=(8, 8))\n",
    "    plt.imshow(img)\n",
    "    plt.title(f'Tahmin: {predicted_label}\\nGüven: {confidence:.2f}', fontsize=16)\n",
    "    plt.axis('off')\n",
    "    plt.show()\n",
    "    \n",
    "    # Tüm sınıf olasılıklarını gösterme\n",
    "    plt.figure(figsize=(10, 6))\n",
    "    sns.barplot(x=class_names, y=prediction)\n",
    "    plt.title('Sınıf Olasılıkları', fontsize=16)\n",
    "    plt.xlabel('Sınıf', fontsize=14)\n",
    "    plt.ylabel('Olasılık', fontsize=14)\n",
    "    plt.xticks(rotation=45)\n",
    "    plt.tight_layout()\n",
    "    plt.show()\n",
    "    \n",
    "    return predicted_label, confidence\n",
    "\n"
   ]
  },
  {
   "cell_type": "markdown",
   "metadata": {},
   "source": [
    "Test setinden birkaç rastgele görüntü üzerinde test etme\n"
   ]
  },
  {
   "cell_type": "code",
   "execution_count": null,
   "metadata": {},
   "outputs": [],
   "source": [
    "test_dir = DATA_DIR / 'Testing'\n",
    "class_dirs = [d for d in test_dir.iterdir() if d.is_dir()]\n",
    "\n",
    "for _ in range(3):  # 3 rastgele görüntüyü test etme\n",
    "    # Rastgele bir sınıf ve görüntü seçme\n",
    "    class_dir = random.choice(class_dirs)\n",
    "    img_path = random.choice(list(class_dir.glob('*.jpg')))\n",
    "    \n",
    "    print(f\"Gerçek sınıf: {class_dir.name}\")\n",
    "    print(f\"Görüntü yolu: {img_path}\")\n",
    "    \n",
    "    # Tahmin etme\n",
    "    predicted_label, confidence = predict_image(model, img_path, class_names)\n",
    "    print(f\"Tahmin edilen sınıf: {predicted_label}, güven: {confidence:.2f}\")\n",
    "    print(\"-\" * 50)\n",
    "\n"
   ]
  },
  {
   "cell_type": "markdown",
   "metadata": {},
   "source": [
    "## Grad-CAM ile Model Yorumlanabilirliği\n"
   ]
  },
  {
   "cell_type": "code",
   "execution_count": null,
   "metadata": {},
   "outputs": [],
   "source": [
    "def make_gradcam_heatmap(img_array, model, last_conv_layer_name, pred_index=None):\n",
    "    # İlk olarak, son evrişim katmanının çıktısını ve modelin tahmini üreten katmanını içeren bir model oluşturuyoruz\n",
    "    grad_model = tf.keras.models.Model(\n",
    "        inputs=[model.inputs],\n",
    "        outputs=[model.get_layer(last_conv_layer_name).output, model.output]\n",
    "    )\n",
    "\n",
    "    # Ardından, son evrişim katmanının çıktısına göre sınıf tahmini için gradyanları hesaplıyoruz\n",
    "    with tf.GradientTape() as tape:\n",
    "        last_conv_layer_output, preds = grad_model(img_array)\n",
    "        if pred_index is None:\n",
    "            pred_index = tf.argmax(preds[0])\n",
    "        class_channel = preds[:, pred_index]\n",
    "\n",
    "    # Bu, son evrişim katmanının çıktısına göre sınıf tahmini için gradyanları verir\n",
    "    grads = tape.gradient(class_channel, last_conv_layer_output)\n",
    "\n",
    "    # Her özellik haritası için gradyanların önemini vektörleştirme\n",
    "    pooled_grads = tf.reduce_mean(grads, axis=(0, 1, 2))\n",
    "\n",
    "    # Son evrişim katmanının çıktısını, özellik haritalarının önemine göre ağırlıklandırma\n",
    "    last_conv_layer_output = last_conv_layer_output[0]\n",
    "    heatmap = last_conv_layer_output @ pooled_grads[..., tf.newaxis]\n",
    "    heatmap = tf.squeeze(heatmap)\n",
    "\n",
    "    # Heatmap'i normalize etme\n",
    "    heatmap = tf.maximum(heatmap, 0) / tf.math.reduce_max(heatmap)\n",
    "    return heatmap.numpy()\n",
    "\n",
    "def display_gradcam(img_path, heatmap, alpha=0.4):\n",
    "    # Orijinal görüntüyü yükleme\n",
    "    img = cv2.imread(str(img_path))\n",
    "    img = cv2.cvtColor(img, cv2.COLOR_BGR2RGB)\n",
    "    img = cv2.resize(img, IMG_SIZE)\n",
    "    \n",
    "    # Heatmap'i görüntü boyutuna yeniden boyutlandırma\n",
    "    heatmap = cv2.resize(heatmap, IMG_SIZE)\n",
    "    \n",
    "    # Heatmap'i RGB'ye dönüştürme\n",
    "    heatmap = np.uint8(255 * heatmap)\n",
    "    heatmap = cv2.applyColorMap(heatmap, cv2.COLORMAP_JET)\n",
    "    \n",
    "    # Heatmap'i orijinal görüntüyle süperpoze etme\n",
    "    superimposed_img = cv2.addWeighted(img, alpha, heatmap, 1 - alpha, 0)\n",
    "    \n",
    "    # Görüntüleri gösterme\n",
    "    fig, axes = plt.subplots(1, 3, figsize=(18, 6))\n",
    "    \n",
    "    axes[0].imshow(img)\n",
    "    axes[0].set_title('Orijinal Görüntü', fontsize=14)\n",
    "    axes[0].axis('off')\n",
    "    \n",
    "    axes[1].imshow(heatmap)\n",
    "    axes[1].set_title('Grad-CAM Heatmap', fontsize=14)\n",
    "    axes[1].axis('off')\n",
    "    \n",
    "    axes[2].imshow(superimposed_img)\n",
    "    axes[2].set_title('Süperpoze Edilmiş Görüntü', fontsize=14)\n",
    "    axes[2].axis('off')\n",
    "    \n",
    "    plt.tight_layout()\n",
    "    plt.show()\n",
    "\n"
   ]
  },
  {
   "cell_type": "markdown",
   "metadata": {},
   "source": [
    "Test setinden bir görüntü seçme\n"
   ]
  },
  {
   "cell_type": "code",
   "execution_count": null,
   "metadata": {},
   "outputs": [],
   "source": [
    "test_dir = DATA_DIR / 'Testing'\n",
    "class_dirs = [d for d in test_dir.iterdir() if d.is_dir()]\n",
    "class_dir = random.choice(class_dirs)\n",
    "img_path = random.choice(list(class_dir.glob('*.jpg')))\n",
    "\n"
   ]
  },
  {
   "cell_type": "markdown",
   "metadata": {},
   "source": [
    "Görüntüyü ön işleme\n"
   ]
  },
  {
   "cell_type": "code",
   "execution_count": null,
   "metadata": {},
   "outputs": [],
   "source": [
    "img = cv2.imread(str(img_path))\n",
    "img = cv2.cvtColor(img, cv2.COLOR_BGR2RGB)\n",
    "img_resized = cv2.resize(img, IMG_SIZE)\n",
    "img_normalized = img_resized / 255.0\n",
    "img_batch = np.expand_dims(img_normalized, axis=0)\n",
    "\n"
   ]
  },
  {
   "cell_type": "markdown",
   "metadata": {},
   "source": [
    "Tahmin yapma\n"
   ]
  },
  {
   "cell_type": "code",
   "execution_count": null,
   "metadata": {},
   "outputs": [],
   "source": [
    "prediction = model.predict(img_batch)[0]\n",
    "predicted_class = np.argmax(prediction)\n",
    "predicted_label = class_names[predicted_class]\n",
    "confidence = prediction[predicted_class]\n",
    "\n",
    "print(f\"Gerçek sınıf: {class_dir.name}\")\n",
    "print(f\"Tahmin edilen sınıf: {predicted_label}, güven: {confidence:.2f}\")\n",
    "\n"
   ]
  },
  {
   "cell_type": "markdown",
   "metadata": {},
   "source": [
    "Grad-CAM heatmap'i oluşturma\n"
   ]
  },
  {
   "cell_type": "code",
   "execution_count": null,
   "metadata": {},
   "outputs": [],
   "source": [
    "try:\n",
    "    # MobileNetV2'nin son evrişim katmanının adını bulma\n",
    "    last_conv_layer_name = None\n",
    "    for layer in model.layers[0].layers:\n",
    "        if isinstance(layer, tf.keras.layers.Conv2D):\n",
    "            last_conv_layer_name = layer.name\n",
    "    \n",
    "    if last_conv_layer_name:\n",
    "        # Grad-CAM heatmap'i oluşturma\n",
    "        heatmap = make_gradcam_heatmap(img_batch, model.layers[0], last_conv_layer_name, predicted_class)\n",
    "        \n",
    "        # Heatmap'i görüntüleme\n",
    "        display_gradcam(img_path, heatmap)\n",
    "    else:\n",
    "        print(\"Son evrişim katmanı bulunamadı.\")\n",
    "except Exception as e:\n",
    "    print(f\"Grad-CAM görselleştirilemedi: {e}\")\n",
    "\n"
   ]
  },
  {
   "cell_type": "markdown",
   "metadata": {},
   "source": [
    "## Sonuç ve Sonraki Adımlar\n"
   ]
  },
  {
   "cell_type": "markdown",
   "metadata": {},
   "source": [
    "Bu notebook'ta şunları gerçekleştirdik:\n"
   ]
  },
  {
   "cell_type": "markdown",
   "metadata": {},
   "source": [
    "\n"
   ]
  },
  {
   "cell_type": "markdown",
   "metadata": {},
   "source": [
    "1. Beyin tümörü MRI veri setini model eğitimi için hazırladık\n"
   ]
  },
  {
   "cell_type": "markdown",
   "metadata": {},
   "source": [
    "2. Eğitim örneklerinin çeşitliliğini artırmak için veri artırma uyguladık\n"
   ]
  },
  {
   "cell_type": "markdown",
   "metadata": {},
   "source": [
    "3. MobileNetV2 ile transfer öğrenme kullanarak derin öğrenme modeli oluşturduk\n"
   ]
  },
  {
   "cell_type": "markdown",
   "metadata": {},
   "source": [
    "4. Modeli eğittik ve performansını değerlendirdik\n"
   ]
  },
  {
   "cell_type": "markdown",
   "metadata": {},
   "source": [
    "5. Modelin performansını artırmak için ince ayar yaptık\n"
   ]
  },
  {
   "cell_type": "markdown",
   "metadata": {},
   "source": [
    "6. Örnek görüntüler üzerinde modeli test ettik\n"
   ]
  },
  {
   "cell_type": "markdown",
   "metadata": {},
   "source": [
    "7. Grad-CAM ile model yorumlanabilirliğini gösterdik\n"
   ]
  },
  {
   "cell_type": "markdown",
   "metadata": {},
   "source": [
    "\n"
   ]
  },
  {
   "cell_type": "markdown",
   "metadata": {},
   "source": [
    "Sonraki adımlar:\n"
   ]
  },
  {
   "cell_type": "markdown",
   "metadata": {},
   "source": [
    "1. Web uygulaması oluşturarak modeli dağıtma\n"
   ]
  },
  {
   "cell_type": "markdown",
   "metadata": {},
   "source": [
    "2. MRI görüntülerini yüklemek ve analiz etmek için bir kullanıcı arayüzü oluşturma\n"
   ]
  },
  {
   "cell_type": "markdown",
   "metadata": {},
   "source": [
    "3. Farklı beyin tümörü türleri hakkında açıklamalar ve bilgiler ekleme\n"
   ]
  },
  {
   "cell_type": "markdown",
   "metadata": {},
   "source": [
    "4. Model açıklanabilirliği tekniklerini (örn. Grad-CAM) uygulama\n"
   ]
  }
 ],
 "metadata": {
  "kernelspec": {
   "display_name": "base",
   "language": "python",
   "name": "python3"
  },
  "language_info": {
   "codemirror_mode": {
    "name": "ipython",
    "version": 3
   },
   "file_extension": ".py",
   "mimetype": "text/x-python",
   "name": "python",
   "nbconvert_exporter": "python",
   "pygments_lexer": "ipython3",
   "version": "3.12.4"
  }
 },
 "nbformat": 4,
 "nbformat_minor": 4
}
