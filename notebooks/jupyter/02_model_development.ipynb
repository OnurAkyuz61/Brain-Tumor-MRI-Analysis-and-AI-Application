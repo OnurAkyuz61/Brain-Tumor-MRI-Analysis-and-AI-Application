{
 "cells": [
  {
   "cell_type": "markdown",
   "metadata": {},
   "source": "!/usr/bin/env python\n"
  },
  {
   "cell_type": "markdown",
   "metadata": {},
   "source": "coding: utf-8\n"
  },
  {
   "cell_type": "markdown",
   "metadata": {},
   "source": "# Beyin T\u00fcm\u00f6r\u00fc MRI S\u0131n\u0131fland\u0131rma Modeli Geli\u015ftirme\n"
  },
  {
   "cell_type": "markdown",
   "metadata": {},
   "source": "\n"
  },
  {
   "cell_type": "markdown",
   "metadata": {},
   "source": "Bu notebook, beyin t\u00fcm\u00f6r\u00fc MRI g\u00f6r\u00fcnt\u00fclerini d\u00f6rt kategoriye s\u0131n\u0131fland\u0131rmak i\u00e7in derin \u00f6\u011frenme modeli geli\u015ftirmeye odaklanmaktad\u0131r: Glioma, Meningioma, No tumor ve Pituitary.\n"
  },
  {
   "cell_type": "markdown",
   "metadata": {},
   "source": "## Gerekli K\u00fct\u00fcphaneleri \u0130\u00e7e Aktarma\n"
  },
  {
   "cell_type": "code",
   "metadata": {},
   "source": "import os\nimport numpy as np\nimport pandas as pd\nimport matplotlib.pyplot as plt\nimport seaborn as sns\nimport cv2\nfrom PIL import Image\nimport random\nfrom pathlib import Path\nimport tensorflow as tf\nfrom tensorflow.keras import layers, models, applications, optimizers\nfrom tensorflow.keras.preprocessing.image import ImageDataGenerator\nfrom sklearn.metrics import classification_report, confusion_matrix\nfrom tqdm.notebook import tqdm\n\n",
   "execution_count": null,
   "outputs": []
  },
  {
   "cell_type": "markdown",
   "metadata": {},
   "source": "Tekrarlanabilirlik i\u00e7in rastgele say\u0131 \u00fcretecini ayarlama\n"
  },
  {
   "cell_type": "code",
   "metadata": {},
   "source": "np.random.seed(42)\ntf.random.set_seed(42)\nrandom.seed(42)\n\n",
   "execution_count": null,
   "outputs": []
  },
  {
   "cell_type": "markdown",
   "metadata": {},
   "source": "Grafik stilini ayarlama\n"
  },
  {
   "cell_type": "code",
   "metadata": {},
   "source": "plt.style.use('fivethirtyeight')\nsns.set(style='whitegrid')\nplt.rcParams['figure.figsize'] = (12, 8)\n\n",
   "execution_count": null,
   "outputs": []
  },
  {
   "cell_type": "markdown",
   "metadata": {},
   "source": "## Veri Haz\u0131rlama\n"
  },
  {
   "cell_type": "markdown",
   "metadata": {},
   "source": "Sabitleri tan\u0131mlama\n"
  },
  {
   "cell_type": "code",
   "metadata": {},
   "source": "DATA_DIR = Path('/Users/onurakyuz/Desktop/Brain Tumor MRI/data')\nIMG_SIZE = (224, 224)  # Bir\u00e7ok CNN mimarisi i\u00e7in standart boyut\nBATCH_SIZE = 32\nEPOCHS = 20\n\n",
   "execution_count": null,
   "outputs": []
  },
  {
   "cell_type": "markdown",
   "metadata": {},
   "source": "Veri setinin var olup olmad\u0131\u011f\u0131n\u0131 kontrol etme\n"
  },
  {
   "cell_type": "code",
   "metadata": {},
   "source": "if not DATA_DIR.exists():\n    print(\"Veri seti bulunamad\u0131. L\u00fctfen Kaggle'dan indirip data dizinine yerle\u015ftirin.\")\nelse:\n    print(\"Veri seti bulundu!\")\n\n",
   "execution_count": null,
   "outputs": []
  },
  {
   "cell_type": "markdown",
   "metadata": {},
   "source": "## Veri Art\u0131rma ve Y\u00fckleme\n"
  },
  {
   "cell_type": "markdown",
   "metadata": {},
   "source": "E\u011fitim seti i\u00e7in veri art\u0131rma\n"
  },
  {
   "cell_type": "code",
   "metadata": {},
   "source": "train_datagen = ImageDataGenerator(\n    rescale=1./255,  # Piksel de\u011ferlerini [0, 1] aral\u0131\u011f\u0131na normalize etme\n    rotation_range=20,  # Rastgele d\u00f6nd\u00fcrme (\u00b120 derece)\n    width_shift_range=0.2,  # Yatay kayd\u0131rma\n    height_shift_range=0.2,  # Dikey kayd\u0131rma\n    shear_range=0.2,  # Kesme d\u00f6n\u00fc\u015f\u00fcm\u00fc\n    zoom_range=0.2,  # Yak\u0131nla\u015ft\u0131rma\n    horizontal_flip=True,  # Yatay \u00e7evirme\n    fill_mode='nearest'  # D\u00f6n\u00fc\u015f\u00fcmlerden sonra bo\u015fluklar\u0131 doldurma y\u00f6ntemi\n)\n\n",
   "execution_count": null,
   "outputs": []
  },
  {
   "cell_type": "markdown",
   "metadata": {},
   "source": "Test/do\u011frulama seti i\u00e7in sadece yeniden \u00f6l\u00e7eklendirme\n"
  },
  {
   "cell_type": "code",
   "metadata": {},
   "source": "test_datagen = ImageDataGenerator(rescale=1./255)\n\n",
   "execution_count": null,
   "outputs": []
  },
  {
   "cell_type": "markdown",
   "metadata": {},
   "source": "Veri art\u0131rma ile e\u011fitim verilerini y\u00fckleme\n"
  },
  {
   "cell_type": "code",
   "metadata": {},
   "source": "train_generator = train_datagen.flow_from_directory(\n    DATA_DIR / 'Training',\n    target_size=IMG_SIZE,\n    batch_size=BATCH_SIZE,\n    class_mode='categorical',\n    shuffle=True\n)\n\n",
   "execution_count": null,
   "outputs": []
  },
  {
   "cell_type": "markdown",
   "metadata": {},
   "source": "Test verilerini y\u00fckleme\n"
  },
  {
   "cell_type": "code",
   "metadata": {},
   "source": "test_generator = test_datagen.flow_from_directory(\n    DATA_DIR / 'Testing',\n    target_size=IMG_SIZE,\n    batch_size=BATCH_SIZE,\n    class_mode='categorical',\n    shuffle=False\n)\n\n",
   "execution_count": null,
   "outputs": []
  },
  {
   "cell_type": "markdown",
   "metadata": {},
   "source": "S\u0131n\u0131f adlar\u0131n\u0131 alma\n"
  },
  {
   "cell_type": "code",
   "metadata": {},
   "source": "class_names = list(train_generator.class_indices.keys())\nprint(f\"S\u0131n\u0131f adlar\u0131: {class_names}\")\n\n",
   "execution_count": null,
   "outputs": []
  },
  {
   "cell_type": "markdown",
   "metadata": {},
   "source": "## Veri Art\u0131rma \u00d6rneklerini G\u00f6rselle\u015ftirme\n"
  },
  {
   "cell_type": "code",
   "metadata": {},
   "source": "def visualize_data_augmentation():\n    # Bir batch veri alma\n    x_batch, y_batch = next(train_generator)\n    \n    # Rastgele 5 g\u00f6r\u00fcnt\u00fc se\u00e7me\n    fig, axes = plt.subplots(3, 5, figsize=(20, 12))\n    \n    for i in range(3):\n        for j in range(5):\n            if i == 0 and j == 0:\n                # Orijinal g\u00f6r\u00fcnt\u00fcy\u00fc g\u00f6sterme (veri art\u0131rma olmadan)\n                img_path = random.choice(list((DATA_DIR / 'Training' / class_names[np.argmax(y_batch[0])]).glob('*.jpg')))\n                img = cv2.imread(str(img_path))\n                img = cv2.cvtColor(img, cv2.COLOR_BGR2RGB)\n                img = cv2.resize(img, IMG_SIZE)\n                img = img / 255.0\n                axes[i, j].imshow(img)\n                axes[i, j].set_title('Orijinal G\u00f6r\u00fcnt\u00fc', fontsize=12)\n            else:\n                # Art\u0131r\u0131lm\u0131\u015f g\u00f6r\u00fcnt\u00fcleri g\u00f6sterme\n                idx = i * 5 + j if i > 0 or j > 0 else 1\n                axes[i, j].imshow(x_batch[idx])\n                axes[i, j].set_title(f'Art\u0131r\u0131lm\u0131\u015f G\u00f6r\u00fcnt\u00fc {idx}', fontsize=12)\n            \n            axes[i, j].axis('off')\n    \n    plt.tight_layout()\n    plt.suptitle('Veri Art\u0131rma \u00d6rnekleri', fontsize=16, y=1.02)\n    plt.show()\n\n",
   "execution_count": null,
   "outputs": []
  },
  {
   "cell_type": "markdown",
   "metadata": {},
   "source": "Veri art\u0131rma \u00f6rneklerini g\u00f6rselle\u015ftirme\n"
  },
  {
   "cell_type": "code",
   "metadata": {},
   "source": "visualize_data_augmentation()\n\n",
   "execution_count": null,
   "outputs": []
  },
  {
   "cell_type": "markdown",
   "metadata": {},
   "source": "## Model Mimarisi\n"
  },
  {
   "cell_type": "code",
   "metadata": {},
   "source": "def create_model(input_shape=(224, 224, 3), num_classes=4):\n    # Temel model olarak \u00f6nceden e\u011fitilmi\u015f bir model kullanma\n    base_model = applications.MobileNetV2(\n        input_shape=input_shape,\n        include_top=False,  # \u00dcst katmanlar\u0131 (s\u0131n\u0131fland\u0131rma katmanlar\u0131) hari\u00e7 tutma\n        weights='imagenet'  # ImageNet a\u011f\u0131rl\u0131klar\u0131n\u0131 kullanma\n    )\n    \n    # Temel model katmanlar\u0131n\u0131 dondurma (e\u011fitim s\u0131ras\u0131nda g\u00fcncellenmeyecek)\n    base_model.trainable = False\n    \n    # Modeli olu\u015fturma\n    model = models.Sequential([\n        base_model,\n        layers.GlobalAveragePooling2D(),  # \u00d6zellik haritalar\u0131n\u0131 d\u00fczle\u015ftirme\n        layers.Dense(128, activation='relu'),  # Tam ba\u011flant\u0131l\u0131 katman\n        layers.Dropout(0.5),  # A\u015f\u0131r\u0131 \u00f6\u011frenmeyi \u00f6nlemek i\u00e7in dropout\n        layers.Dense(num_classes, activation='softmax')  # \u00c7\u0131k\u0131\u015f katman\u0131\n    ])\n    \n    # Modeli derleme\n    model.compile(\n        optimizer=optimizers.Adam(learning_rate=0.001),\n        loss='categorical_crossentropy',\n        metrics=['accuracy']\n    )\n    \n    return model\n\n",
   "execution_count": null,
   "outputs": []
  },
  {
   "cell_type": "markdown",
   "metadata": {},
   "source": "Modeli olu\u015fturma\n"
  },
  {
   "cell_type": "code",
   "metadata": {},
   "source": "model = create_model(input_shape=IMG_SIZE + (3,), num_classes=len(class_names))\nmodel.summary()\n\n",
   "execution_count": null,
   "outputs": []
  },
  {
   "cell_type": "markdown",
   "metadata": {},
   "source": "## Model Mimarisini G\u00f6rselle\u015ftirme\n"
  },
  {
   "cell_type": "code",
   "metadata": {},
   "source": "def visualize_model_architecture(model):\n    # Model mimarisini g\u00f6rselle\u015ftirme\n    tf.keras.utils.plot_model(\n        model,\n        to_file='model_architecture.png',\n        show_shapes=True,\n        show_layer_names=True,\n        rankdir='TB'\n    )\n    \n    # G\u00f6r\u00fcnt\u00fcy\u00fc g\u00f6sterme\n    plt.figure(figsize=(12, 12))\n    img = plt.imread('model_architecture.png')\n    plt.imshow(img)\n    plt.axis('off')\n    plt.title('Model Mimarisi', fontsize=16)\n    plt.show()\n\n",
   "execution_count": null,
   "outputs": []
  },
  {
   "cell_type": "markdown",
   "metadata": {},
   "source": "Model mimarisini g\u00f6rselle\u015ftirme (TensorFlow 2.0+ ve pydot/graphviz gerektirir)\n"
  },
  {
   "cell_type": "code",
   "metadata": {},
   "source": "try:\n    visualize_model_architecture(model)\nexcept Exception as e:\n    print(f\"Model mimarisi g\u00f6rselle\u015ftirilemedi: {e}\")\n    print(\"Bu \u00f6zellik i\u00e7in 'pydot' ve 'graphviz' paketlerinin y\u00fcklenmesi gerekebilir.\")\n\n",
   "execution_count": null,
   "outputs": []
  },
  {
   "cell_type": "markdown",
   "metadata": {},
   "source": "## Model E\u011fitimi\n"
  },
  {
   "cell_type": "markdown",
   "metadata": {},
   "source": "Geri \u00e7a\u011f\u0131rmalar\u0131 tan\u0131mlama\n"
  },
  {
   "cell_type": "code",
   "metadata": {},
   "source": "callbacks = [\n    # Erken durdurma: Do\u011frulama kayb\u0131 5 epoch boyunca iyile\u015fmezse e\u011fitimi durdurma\n    tf.keras.callbacks.EarlyStopping(\n        patience=5,\n        restore_best_weights=True  # En iyi a\u011f\u0131rl\u0131klar\u0131 geri y\u00fckleme\n    ),\n    # \u00d6\u011frenme oran\u0131n\u0131 azaltma: Do\u011frulama kayb\u0131 3 epoch boyunca iyile\u015fmezse \u00f6\u011frenme oran\u0131n\u0131 azaltma\n    tf.keras.callbacks.ReduceLROnPlateau(\n        factor=0.1,  # \u00d6\u011frenme oran\u0131n\u0131 10 kat azaltma\n        patience=3,\n        min_lr=1e-6  # Minimum \u00f6\u011frenme oran\u0131\n    ),\n    # Model kontrol noktas\u0131: En iyi modeli kaydetme\n    tf.keras.callbacks.ModelCheckpoint(\n        filepath='../models/brain_tumor_model.h5',\n        save_best_only=True,  # Sadece en iyi modeli kaydetme\n        monitor='val_accuracy'  # Do\u011frulama do\u011frulu\u011funa g\u00f6re izleme\n    )\n]\n\n",
   "execution_count": null,
   "outputs": []
  },
  {
   "cell_type": "markdown",
   "metadata": {},
   "source": "Modeli e\u011fitme\n"
  },
  {
   "cell_type": "code",
   "metadata": {},
   "source": "history = model.fit(\n    train_generator,\n    epochs=EPOCHS,\n    validation_data=test_generator,\n    callbacks=callbacks\n)\n\n",
   "execution_count": null,
   "outputs": []
  },
  {
   "cell_type": "markdown",
   "metadata": {},
   "source": "## E\u011fitim Performans\u0131n\u0131 De\u011ferlendirme\n"
  },
  {
   "cell_type": "markdown",
   "metadata": {},
   "source": "E\u011fitim ge\u00e7mi\u015fini \u00e7izme\n"
  },
  {
   "cell_type": "code",
   "metadata": {},
   "source": "def plot_training_history(history):\n    fig, axes = plt.subplots(1, 2, figsize=(18, 6))\n    \n    # Do\u011fruluk grafi\u011fi\n    axes[0].plot(history.history['accuracy'], label='E\u011fitim Do\u011frulu\u011fu')\n    axes[0].plot(history.history['val_accuracy'], label='Do\u011frulama Do\u011frulu\u011fu')\n    axes[0].set_title('Model Do\u011frulu\u011fu', fontsize=16)\n    axes[0].set_xlabel('Epoch', fontsize=14)\n    axes[0].set_ylabel('Do\u011fruluk', fontsize=14)\n    axes[0].legend(fontsize=12)\n    axes[0].grid(True)\n    \n    # Kay\u0131p grafi\u011fi\n    axes[1].plot(history.history['loss'], label='E\u011fitim Kayb\u0131')\n    axes[1].plot(history.history['val_loss'], label='Do\u011frulama Kayb\u0131')\n    axes[1].set_title('Model Kayb\u0131', fontsize=16)\n    axes[1].set_xlabel('Epoch', fontsize=14)\n    axes[1].set_ylabel('Kay\u0131p', fontsize=14)\n    axes[1].legend(fontsize=12)\n    axes[1].grid(True)\n    \n    plt.tight_layout()\n    plt.show()\n\n",
   "execution_count": null,
   "outputs": []
  },
  {
   "cell_type": "markdown",
   "metadata": {},
   "source": "E\u011fitim ge\u00e7mi\u015fini \u00e7izme\n"
  },
  {
   "cell_type": "code",
   "metadata": {},
   "source": "plot_training_history(history)\n\n",
   "execution_count": null,
   "outputs": []
  },
  {
   "cell_type": "markdown",
   "metadata": {},
   "source": "## Test Setinde Modeli De\u011ferlendirme\n"
  },
  {
   "cell_type": "markdown",
   "metadata": {},
   "source": "Test setinde modeli de\u011ferlendirme\n"
  },
  {
   "cell_type": "code",
   "metadata": {},
   "source": "test_loss, test_acc = model.evaluate(test_generator)\nprint(f\"Test do\u011frulu\u011fu: {test_acc:.4f}\")\nprint(f\"Test kayb\u0131: {test_loss:.4f}\")\n\n",
   "execution_count": null,
   "outputs": []
  },
  {
   "cell_type": "markdown",
   "metadata": {},
   "source": "## S\u0131n\u0131fland\u0131rma Raporu ve Kar\u0131\u015f\u0131kl\u0131k Matrisi\n"
  },
  {
   "cell_type": "markdown",
   "metadata": {},
   "source": "Tahminleri alma\n"
  },
  {
   "cell_type": "code",
   "metadata": {},
   "source": "test_generator.reset()\ny_pred = model.predict(test_generator)\ny_pred_classes = np.argmax(y_pred, axis=1)\n\n",
   "execution_count": null,
   "outputs": []
  },
  {
   "cell_type": "markdown",
   "metadata": {},
   "source": "Ger\u00e7ek etiketleri alma\n"
  },
  {
   "cell_type": "code",
   "metadata": {},
   "source": "y_true = test_generator.classes\n\n",
   "execution_count": null,
   "outputs": []
  },
  {
   "cell_type": "markdown",
   "metadata": {},
   "source": "S\u0131n\u0131fland\u0131rma raporunu yazd\u0131rma\n"
  },
  {
   "cell_type": "code",
   "metadata": {},
   "source": "print(\"S\u0131n\u0131fland\u0131rma Raporu:\")\nprint(classification_report(y_true, y_pred_classes, target_names=class_names))\n\n",
   "execution_count": null,
   "outputs": []
  },
  {
   "cell_type": "markdown",
   "metadata": {},
   "source": "Kar\u0131\u015f\u0131kl\u0131k matrisini \u00e7izme\n"
  },
  {
   "cell_type": "code",
   "metadata": {},
   "source": "plt.figure(figsize=(10, 8))\ncm = confusion_matrix(y_true, y_pred_classes)\nsns.heatmap(cm, annot=True, fmt='d', cmap='Blues', xticklabels=class_names, yticklabels=class_names)\nplt.title('Kar\u0131\u015f\u0131kl\u0131k Matrisi', fontsize=16)\nplt.xlabel('Tahmin Edilen Etiket', fontsize=14)\nplt.ylabel('Ger\u00e7ek Etiket', fontsize=14)\nplt.tight_layout()\nplt.show()\n\n",
   "execution_count": null,
   "outputs": []
  },
  {
   "cell_type": "markdown",
   "metadata": {},
   "source": "## Model \u0130nce Ayar\u0131 (Fine-tuning)\n"
  },
  {
   "cell_type": "markdown",
   "metadata": {},
   "source": "Temel modelin baz\u0131 katmanlar\u0131n\u0131 ince ayar i\u00e7in \u00e7\u00f6zme\n"
  },
  {
   "cell_type": "code",
   "metadata": {},
   "source": "def fine_tune_model(model):\n    # Temel modelin \u00fcst katmanlar\u0131n\u0131 \u00e7\u00f6zme\n    base_model = model.layers[0]\n    base_model.trainable = True\n    \n    # Son 30 katman hari\u00e7 t\u00fcm katmanlar\u0131 dondurma\n    for layer in base_model.layers[:-30]:\n        layer.trainable = False\n    \n    # Modeli daha d\u00fc\u015f\u00fck bir \u00f6\u011frenme oran\u0131yla yeniden derleme\n    model.compile(\n        optimizer=optimizers.Adam(learning_rate=1e-5),\n        loss='categorical_crossentropy',\n        metrics=['accuracy']\n    )\n    \n    return model\n\n",
   "execution_count": null,
   "outputs": []
  },
  {
   "cell_type": "markdown",
   "metadata": {},
   "source": "Modeli ince ayarlama\n"
  },
  {
   "cell_type": "code",
   "metadata": {},
   "source": "fine_tuned_model = fine_tune_model(model)\n\n",
   "execution_count": null,
   "outputs": []
  },
  {
   "cell_type": "markdown",
   "metadata": {},
   "source": "E\u011fitilebilir parametrelerin say\u0131s\u0131n\u0131 g\u00f6sterme\n"
  },
  {
   "cell_type": "code",
   "metadata": {},
   "source": "print(f\"Toplam parametre: {fine_tuned_model.count_params():,}\")\nprint(f\"E\u011fitilebilir parametre: {sum([np.prod(v.get_shape()) for v in fine_tuned_model.trainable_weights]):,}\")\nprint(f\"E\u011fitilemez parametre: {sum([np.prod(v.get_shape()) for v in fine_tuned_model.non_trainable_weights]):,}\")\n\n",
   "execution_count": null,
   "outputs": []
  },
  {
   "cell_type": "markdown",
   "metadata": {},
   "source": "Birka\u00e7 epoch daha e\u011fitme\n"
  },
  {
   "cell_type": "code",
   "metadata": {},
   "source": "fine_tune_history = fine_tuned_model.fit(\n    train_generator,\n    epochs=10,\n    validation_data=test_generator,\n    callbacks=callbacks\n)\n\n",
   "execution_count": null,
   "outputs": []
  },
  {
   "cell_type": "markdown",
   "metadata": {},
   "source": "\u0130nce ayar e\u011fitim ge\u00e7mi\u015fini \u00e7izme\n"
  },
  {
   "cell_type": "code",
   "metadata": {},
   "source": "plot_training_history(fine_tune_history)\n\n",
   "execution_count": null,
   "outputs": []
  },
  {
   "cell_type": "markdown",
   "metadata": {},
   "source": "## Modeli Kaydetme\n"
  },
  {
   "cell_type": "markdown",
   "metadata": {},
   "source": "models dizini yoksa olu\u015fturma\n"
  },
  {
   "cell_type": "code",
   "metadata": {},
   "source": "os.makedirs('../models', exist_ok=True)\n\n",
   "execution_count": null,
   "outputs": []
  },
  {
   "cell_type": "markdown",
   "metadata": {},
   "source": "Modeli kaydetme\n"
  },
  {
   "cell_type": "code",
   "metadata": {},
   "source": "model.save('../models/brain_tumor_model.h5')\nprint(\"Model ba\u015far\u0131yla kaydedildi!\")\n\n",
   "execution_count": null,
   "outputs": []
  },
  {
   "cell_type": "markdown",
   "metadata": {},
   "source": "S\u0131n\u0131f adlar\u0131n\u0131 kaydetme\n"
  },
  {
   "cell_type": "code",
   "metadata": {},
   "source": "import json\nwith open('../models/class_names.json', 'w') as f:\n    json.dump(class_names, f)\nprint(\"S\u0131n\u0131f adlar\u0131 ba\u015far\u0131yla kaydedildi!\")\n\n",
   "execution_count": null,
   "outputs": []
  },
  {
   "cell_type": "markdown",
   "metadata": {},
   "source": "## \u00d6rnek G\u00f6r\u00fcnt\u00fcler \u00dczerinde Modeli Test Etme\n"
  },
  {
   "cell_type": "code",
   "metadata": {},
   "source": "def predict_image(model, img_path, class_names):\n    # G\u00f6r\u00fcnt\u00fcy\u00fc okuma ve \u00f6n i\u015fleme\n    img = cv2.imread(str(img_path))\n    img = cv2.cvtColor(img, cv2.COLOR_BGR2RGB)\n    img_resized = cv2.resize(img, IMG_SIZE)\n    img_normalized = img_resized / 255.0\n    img_batch = np.expand_dims(img_normalized, axis=0)\n    \n    # Tahmin yapma\n    prediction = model.predict(img_batch)[0]\n    predicted_class = np.argmax(prediction)\n    predicted_label = class_names[predicted_class]\n    confidence = prediction[predicted_class]\n    \n    # G\u00f6r\u00fcnt\u00fcy\u00fc ve tahmini g\u00f6sterme\n    plt.figure(figsize=(8, 8))\n    plt.imshow(img)\n    plt.title(f'Tahmin: {predicted_label}\\nG\u00fcven: {confidence:.2f}', fontsize=16)\n    plt.axis('off')\n    plt.show()\n    \n    # T\u00fcm s\u0131n\u0131f olas\u0131l\u0131klar\u0131n\u0131 g\u00f6sterme\n    plt.figure(figsize=(10, 6))\n    sns.barplot(x=class_names, y=prediction)\n    plt.title('S\u0131n\u0131f Olas\u0131l\u0131klar\u0131', fontsize=16)\n    plt.xlabel('S\u0131n\u0131f', fontsize=14)\n    plt.ylabel('Olas\u0131l\u0131k', fontsize=14)\n    plt.xticks(rotation=45)\n    plt.tight_layout()\n    plt.show()\n    \n    return predicted_label, confidence\n\n",
   "execution_count": null,
   "outputs": []
  },
  {
   "cell_type": "markdown",
   "metadata": {},
   "source": "Test setinden birka\u00e7 rastgele g\u00f6r\u00fcnt\u00fc \u00fczerinde test etme\n"
  },
  {
   "cell_type": "code",
   "metadata": {},
   "source": "test_dir = DATA_DIR / 'Testing'\nclass_dirs = [d for d in test_dir.iterdir() if d.is_dir()]\n\nfor _ in range(3):  # 3 rastgele g\u00f6r\u00fcnt\u00fcy\u00fc test etme\n    # Rastgele bir s\u0131n\u0131f ve g\u00f6r\u00fcnt\u00fc se\u00e7me\n    class_dir = random.choice(class_dirs)\n    img_path = random.choice(list(class_dir.glob('*.jpg')))\n    \n    print(f\"Ger\u00e7ek s\u0131n\u0131f: {class_dir.name}\")\n    print(f\"G\u00f6r\u00fcnt\u00fc yolu: {img_path}\")\n    \n    # Tahmin etme\n    predicted_label, confidence = predict_image(model, img_path, class_names)\n    print(f\"Tahmin edilen s\u0131n\u0131f: {predicted_label}, g\u00fcven: {confidence:.2f}\")\n    print(\"-\" * 50)\n\n",
   "execution_count": null,
   "outputs": []
  },
  {
   "cell_type": "markdown",
   "metadata": {},
   "source": "## Grad-CAM ile Model Yorumlanabilirli\u011fi\n"
  },
  {
   "cell_type": "code",
   "metadata": {},
   "source": "def make_gradcam_heatmap(img_array, model, last_conv_layer_name, pred_index=None):\n    # \u0130lk olarak, son evri\u015fim katman\u0131n\u0131n \u00e7\u0131kt\u0131s\u0131n\u0131 ve modelin tahmini \u00fcreten katman\u0131n\u0131 i\u00e7eren bir model olu\u015fturuyoruz\n    grad_model = tf.keras.models.Model(\n        inputs=[model.inputs],\n        outputs=[model.get_layer(last_conv_layer_name).output, model.output]\n    )\n\n    # Ard\u0131ndan, son evri\u015fim katman\u0131n\u0131n \u00e7\u0131kt\u0131s\u0131na g\u00f6re s\u0131n\u0131f tahmini i\u00e7in gradyanlar\u0131 hesapl\u0131yoruz\n    with tf.GradientTape() as tape:\n        last_conv_layer_output, preds = grad_model(img_array)\n        if pred_index is None:\n            pred_index = tf.argmax(preds[0])\n        class_channel = preds[:, pred_index]\n\n    # Bu, son evri\u015fim katman\u0131n\u0131n \u00e7\u0131kt\u0131s\u0131na g\u00f6re s\u0131n\u0131f tahmini i\u00e7in gradyanlar\u0131 verir\n    grads = tape.gradient(class_channel, last_conv_layer_output)\n\n    # Her \u00f6zellik haritas\u0131 i\u00e7in gradyanlar\u0131n \u00f6nemini vekt\u00f6rle\u015ftirme\n    pooled_grads = tf.reduce_mean(grads, axis=(0, 1, 2))\n\n    # Son evri\u015fim katman\u0131n\u0131n \u00e7\u0131kt\u0131s\u0131n\u0131, \u00f6zellik haritalar\u0131n\u0131n \u00f6nemine g\u00f6re a\u011f\u0131rl\u0131kland\u0131rma\n    last_conv_layer_output = last_conv_layer_output[0]\n    heatmap = last_conv_layer_output @ pooled_grads[..., tf.newaxis]\n    heatmap = tf.squeeze(heatmap)\n\n    # Heatmap'i normalize etme\n    heatmap = tf.maximum(heatmap, 0) / tf.math.reduce_max(heatmap)\n    return heatmap.numpy()\n\ndef display_gradcam(img_path, heatmap, alpha=0.4):\n    # Orijinal g\u00f6r\u00fcnt\u00fcy\u00fc y\u00fckleme\n    img = cv2.imread(str(img_path))\n    img = cv2.cvtColor(img, cv2.COLOR_BGR2RGB)\n    img = cv2.resize(img, IMG_SIZE)\n    \n    # Heatmap'i g\u00f6r\u00fcnt\u00fc boyutuna yeniden boyutland\u0131rma\n    heatmap = cv2.resize(heatmap, IMG_SIZE)\n    \n    # Heatmap'i RGB'ye d\u00f6n\u00fc\u015ft\u00fcrme\n    heatmap = np.uint8(255 * heatmap)\n    heatmap = cv2.applyColorMap(heatmap, cv2.COLORMAP_JET)\n    \n    # Heatmap'i orijinal g\u00f6r\u00fcnt\u00fcyle s\u00fcperpoze etme\n    superimposed_img = cv2.addWeighted(img, alpha, heatmap, 1 - alpha, 0)\n    \n    # G\u00f6r\u00fcnt\u00fcleri g\u00f6sterme\n    fig, axes = plt.subplots(1, 3, figsize=(18, 6))\n    \n    axes[0].imshow(img)\n    axes[0].set_title('Orijinal G\u00f6r\u00fcnt\u00fc', fontsize=14)\n    axes[0].axis('off')\n    \n    axes[1].imshow(heatmap)\n    axes[1].set_title('Grad-CAM Heatmap', fontsize=14)\n    axes[1].axis('off')\n    \n    axes[2].imshow(superimposed_img)\n    axes[2].set_title('S\u00fcperpoze Edilmi\u015f G\u00f6r\u00fcnt\u00fc', fontsize=14)\n    axes[2].axis('off')\n    \n    plt.tight_layout()\n    plt.show()\n\n",
   "execution_count": null,
   "outputs": []
  },
  {
   "cell_type": "markdown",
   "metadata": {},
   "source": "Test setinden bir g\u00f6r\u00fcnt\u00fc se\u00e7me\n"
  },
  {
   "cell_type": "code",
   "metadata": {},
   "source": "test_dir = DATA_DIR / 'Testing'\nclass_dirs = [d for d in test_dir.iterdir() if d.is_dir()]\nclass_dir = random.choice(class_dirs)\nimg_path = random.choice(list(class_dir.glob('*.jpg')))\n\n",
   "execution_count": null,
   "outputs": []
  },
  {
   "cell_type": "markdown",
   "metadata": {},
   "source": "G\u00f6r\u00fcnt\u00fcy\u00fc \u00f6n i\u015fleme\n"
  },
  {
   "cell_type": "code",
   "metadata": {},
   "source": "img = cv2.imread(str(img_path))\nimg = cv2.cvtColor(img, cv2.COLOR_BGR2RGB)\nimg_resized = cv2.resize(img, IMG_SIZE)\nimg_normalized = img_resized / 255.0\nimg_batch = np.expand_dims(img_normalized, axis=0)\n\n",
   "execution_count": null,
   "outputs": []
  },
  {
   "cell_type": "markdown",
   "metadata": {},
   "source": "Tahmin yapma\n"
  },
  {
   "cell_type": "code",
   "metadata": {},
   "source": "prediction = model.predict(img_batch)[0]\npredicted_class = np.argmax(prediction)\npredicted_label = class_names[predicted_class]\nconfidence = prediction[predicted_class]\n\nprint(f\"Ger\u00e7ek s\u0131n\u0131f: {class_dir.name}\")\nprint(f\"Tahmin edilen s\u0131n\u0131f: {predicted_label}, g\u00fcven: {confidence:.2f}\")\n\n",
   "execution_count": null,
   "outputs": []
  },
  {
   "cell_type": "markdown",
   "metadata": {},
   "source": "Grad-CAM heatmap'i olu\u015fturma\n"
  },
  {
   "cell_type": "code",
   "metadata": {},
   "source": "try:\n    # MobileNetV2'nin son evri\u015fim katman\u0131n\u0131n ad\u0131n\u0131 bulma\n    last_conv_layer_name = None\n    for layer in model.layers[0].layers:\n        if isinstance(layer, tf.keras.layers.Conv2D):\n            last_conv_layer_name = layer.name\n    \n    if last_conv_layer_name:\n        # Grad-CAM heatmap'i olu\u015fturma\n        heatmap = make_gradcam_heatmap(img_batch, model.layers[0], last_conv_layer_name, predicted_class)\n        \n        # Heatmap'i g\u00f6r\u00fcnt\u00fcleme\n        display_gradcam(img_path, heatmap)\n    else:\n        print(\"Son evri\u015fim katman\u0131 bulunamad\u0131.\")\nexcept Exception as e:\n    print(f\"Grad-CAM g\u00f6rselle\u015ftirilemedi: {e}\")\n\n",
   "execution_count": null,
   "outputs": []
  },
  {
   "cell_type": "markdown",
   "metadata": {},
   "source": "## Sonu\u00e7 ve Sonraki Ad\u0131mlar\n"
  },
  {
   "cell_type": "markdown",
   "metadata": {},
   "source": "Bu notebook'ta \u015funlar\u0131 ger\u00e7ekle\u015ftirdik:\n"
  },
  {
   "cell_type": "markdown",
   "metadata": {},
   "source": "\n"
  },
  {
   "cell_type": "markdown",
   "metadata": {},
   "source": "1. Beyin t\u00fcm\u00f6r\u00fc MRI veri setini model e\u011fitimi i\u00e7in haz\u0131rlad\u0131k\n"
  },
  {
   "cell_type": "markdown",
   "metadata": {},
   "source": "2. E\u011fitim \u00f6rneklerinin \u00e7e\u015fitlili\u011fini art\u0131rmak i\u00e7in veri art\u0131rma uygulad\u0131k\n"
  },
  {
   "cell_type": "markdown",
   "metadata": {},
   "source": "3. MobileNetV2 ile transfer \u00f6\u011frenme kullanarak derin \u00f6\u011frenme modeli olu\u015fturduk\n"
  },
  {
   "cell_type": "markdown",
   "metadata": {},
   "source": "4. Modeli e\u011fittik ve performans\u0131n\u0131 de\u011ferlendirdik\n"
  },
  {
   "cell_type": "markdown",
   "metadata": {},
   "source": "5. Modelin performans\u0131n\u0131 art\u0131rmak i\u00e7in ince ayar yapt\u0131k\n"
  },
  {
   "cell_type": "markdown",
   "metadata": {},
   "source": "6. \u00d6rnek g\u00f6r\u00fcnt\u00fcler \u00fczerinde modeli test ettik\n"
  },
  {
   "cell_type": "markdown",
   "metadata": {},
   "source": "7. Grad-CAM ile model yorumlanabilirli\u011fini g\u00f6sterdik\n"
  },
  {
   "cell_type": "markdown",
   "metadata": {},
   "source": "\n"
  },
  {
   "cell_type": "markdown",
   "metadata": {},
   "source": "Sonraki ad\u0131mlar:\n"
  },
  {
   "cell_type": "markdown",
   "metadata": {},
   "source": "1. Web uygulamas\u0131 olu\u015fturarak modeli da\u011f\u0131tma\n"
  },
  {
   "cell_type": "markdown",
   "metadata": {},
   "source": "2. MRI g\u00f6r\u00fcnt\u00fclerini y\u00fcklemek ve analiz etmek i\u00e7in bir kullan\u0131c\u0131 aray\u00fcz\u00fc olu\u015fturma\n"
  },
  {
   "cell_type": "markdown",
   "metadata": {},
   "source": "3. Farkl\u0131 beyin t\u00fcm\u00f6r\u00fc t\u00fcrleri hakk\u0131nda a\u00e7\u0131klamalar ve bilgiler ekleme\n"
  },
  {
   "cell_type": "markdown",
   "metadata": {},
   "source": "4. Model a\u00e7\u0131klanabilirli\u011fi tekniklerini (\u00f6rn. Grad-CAM) uygulama\n"
  }
 ],
 "metadata": {
  "kernelspec": {
   "display_name": "Python 3",
   "language": "python",
   "name": "python3"
  },
  "language_info": {
   "codemirror_mode": {
    "name": "ipython",
    "version": 3
   },
   "file_extension": ".py",
   "mimetype": "text/x-python",
   "name": "python",
   "nbconvert_exporter": "python",
   "pygments_lexer": "ipython3",
   "version": "3.8.10"
  }
 },
 "nbformat": 4,
 "nbformat_minor": 4
}