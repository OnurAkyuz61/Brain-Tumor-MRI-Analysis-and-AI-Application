{
 "cells": [
  {
   "cell_type": "markdown",
   "metadata": {},
   "source": [
    "!/usr/bin/env python\n"
   ]
  },
  {
   "cell_type": "markdown",
   "metadata": {},
   "source": [
    "coding: utf-8\n"
   ]
  },
  {
   "cell_type": "markdown",
   "metadata": {},
   "source": [
    "# Brain Tumor MRI Dataset Exploration\n"
   ]
  },
  {
   "cell_type": "markdown",
   "metadata": {},
   "source": [
    "\n"
   ]
  },
  {
   "cell_type": "markdown",
   "metadata": {},
   "source": [
    "Bu notebook, Kaggle'dan alınan Beyin Tümörü MRI Veri Setini incelemektedir. Bu veri seti, beyinlerin MRI taramalarını dört sınıfa ayırmaktadır: Glioma, Meningioma, No tumor ve Pituitary.\n"
   ]
  },
  {
   "cell_type": "markdown",
   "metadata": {},
   "source": [
    "## Gerekli Kütüphaneleri İçe Aktarma\n"
   ]
  },
  {
   "cell_type": "code",
   "execution_count": 7,
   "metadata": {},
   "outputs": [
    {
     "ename": "ModuleNotFoundError",
     "evalue": "No module named 'cv2'",
     "output_type": "error",
     "traceback": [
      "\u001b[0;31m---------------------------------------------------------------------------\u001b[0m",
      "\u001b[0;31mModuleNotFoundError\u001b[0m                       Traceback (most recent call last)",
      "Cell \u001b[0;32mIn[7], line 6\u001b[0m\n\u001b[1;32m      4\u001b[0m \u001b[38;5;28;01mimport\u001b[39;00m \u001b[38;5;21;01mmatplotlib\u001b[39;00m\u001b[38;5;21;01m.\u001b[39;00m\u001b[38;5;21;01mpyplot\u001b[39;00m \u001b[38;5;28;01mas\u001b[39;00m \u001b[38;5;21;01mplt\u001b[39;00m\n\u001b[1;32m      5\u001b[0m \u001b[38;5;28;01mimport\u001b[39;00m \u001b[38;5;21;01mseaborn\u001b[39;00m \u001b[38;5;28;01mas\u001b[39;00m \u001b[38;5;21;01msns\u001b[39;00m\n\u001b[0;32m----> 6\u001b[0m \u001b[38;5;28;01mimport\u001b[39;00m \u001b[38;5;21;01mcv2\u001b[39;00m\n\u001b[1;32m      7\u001b[0m \u001b[38;5;28;01mfrom\u001b[39;00m \u001b[38;5;21;01mPIL\u001b[39;00m \u001b[38;5;28;01mimport\u001b[39;00m Image\n\u001b[1;32m      8\u001b[0m \u001b[38;5;28;01mimport\u001b[39;00m \u001b[38;5;21;01mrandom\u001b[39;00m\n",
      "\u001b[0;31mModuleNotFoundError\u001b[0m: No module named 'cv2'"
     ]
    }
   ],
   "source": [
    "import os\n",
    "import numpy as np\n",
    "import pandas as pd\n",
    "import matplotlib.pyplot as plt\n",
    "import seaborn as sns\n",
    "import cv2\n",
    "from PIL import Image\n",
    "import random\n",
    "from pathlib import Path\n",
    "from tqdm.notebook import tqdm\n",
    "\n"
   ]
  },
  {
   "cell_type": "markdown",
   "metadata": {},
   "source": [
    "Grafik stilini ayarlama\n"
   ]
  },
  {
   "cell_type": "code",
   "execution_count": null,
   "metadata": {},
   "outputs": [],
   "source": [
    "plt.style.use('fivethirtyeight')\n",
    "sns.set(style='whitegrid')\n",
    "\n"
   ]
  },
  {
   "cell_type": "markdown",
   "metadata": {},
   "source": [
    "Grafik boyutlarını artırma\n"
   ]
  },
  {
   "cell_type": "code",
   "execution_count": null,
   "metadata": {},
   "outputs": [],
   "source": [
    "plt.rcParams['figure.figsize'] = (12, 8)\n",
    "plt.rcParams['font.size'] = 14\n",
    "\n"
   ]
  },
  {
   "cell_type": "markdown",
   "metadata": {},
   "source": [
    "## Veri Setini Yükleme ve Keşfetme\n"
   ]
  },
  {
   "cell_type": "markdown",
   "metadata": {},
   "source": [
    "\n"
   ]
  },
  {
   "cell_type": "markdown",
   "metadata": {},
   "source": [
    "Öncelikle, veri setinin yapısını kontrol edelim ve her sınıftaki görüntü sayısını sayalım.\n"
   ]
  },
  {
   "cell_type": "markdown",
   "metadata": {},
   "source": [
    "Veri seti yolunu tanımlama\n"
   ]
  },
  {
   "cell_type": "code",
   "execution_count": null,
   "metadata": {},
   "outputs": [],
   "source": [
    "data_dir = Path('/Users/onurakyuz/Desktop/Brain Tumor MRI/data')\n",
    "\n"
   ]
  },
  {
   "cell_type": "markdown",
   "metadata": {},
   "source": [
    "Veri setinin var olup olmadığını kontrol etme\n"
   ]
  },
  {
   "cell_type": "code",
   "execution_count": null,
   "metadata": {},
   "outputs": [],
   "source": [
    "if not data_dir.exists():\n",
    "    print(\"Veri seti bulunamadı. Lütfen Kaggle'dan indirip data dizinine yerleştirin.\")\n",
    "else:\n",
    "    print(\"Veri seti bulundu!\")\n",
    "    \n",
    "    # Veri setindeki tüm dizinleri listeleme\n",
    "    for split in ['Training', 'Testing']:\n",
    "        split_dir = data_dir / split\n",
    "        print(f\"\\n{split} seti:\")\n",
    "        \n",
    "        class_counts = {}\n",
    "        for class_dir in split_dir.iterdir():\n",
    "            if class_dir.is_dir():\n",
    "                class_name = class_dir.name\n",
    "                num_images = len(list(class_dir.glob('*.jpg')))\n",
    "                class_counts[class_name] = num_images\n",
    "                print(f\"  - {class_name}: {num_images} görüntü\")\n",
    "        \n",
    "        print(f\"  Toplam: {sum(class_counts.values())} görüntü\")\n",
    "\n"
   ]
  },
  {
   "cell_type": "markdown",
   "metadata": {},
   "source": [
    "## Sınıf Dağılımını Görselleştirme\n"
   ]
  },
  {
   "cell_type": "markdown",
   "metadata": {},
   "source": [
    "Eğitim ve test setleri için sınıf dağılımını görselleştirme\n"
   ]
  },
  {
   "cell_type": "code",
   "execution_count": null,
   "metadata": {},
   "outputs": [],
   "source": [
    "def plot_class_distribution(data_dir):\n",
    "    fig, axes = plt.subplots(1, 2, figsize=(18, 8))\n",
    "    \n",
    "    for i, split in enumerate(['Training', 'Testing']):\n",
    "        split_dir = data_dir / split\n",
    "        class_counts = {}\n",
    "        \n",
    "        for class_dir in split_dir.iterdir():\n",
    "            if class_dir.is_dir():\n",
    "                class_name = class_dir.name\n",
    "                num_images = len(list(class_dir.glob('*.jpg')))\n",
    "                class_counts[class_name] = num_images\n",
    "        \n",
    "        # Sınıf adlarını alfabetik sıraya göre sıralama\n",
    "        sorted_classes = sorted(class_counts.keys())\n",
    "        sorted_counts = [class_counts[cls] for cls in sorted_classes]\n",
    "        \n",
    "        # Çubuk grafiği oluşturma\n",
    "        ax = axes[i]\n",
    "        sns.barplot(x=sorted_classes, y=sorted_counts, ax=ax, palette='viridis')\n",
    "        ax.set_title(f'{split} Seti Sınıf Dağılımı', fontsize=16)\n",
    "        ax.set_xlabel('Sınıf', fontsize=14)\n",
    "        ax.set_ylabel('Görüntü Sayısı', fontsize=14)\n",
    "        \n",
    "        # Çubukların üzerine sayı etiketleri ekleme\n",
    "        for j, count in enumerate(sorted_counts):\n",
    "            ax.text(j, count + 20, str(count), ha='center', fontsize=12)\n",
    "            \n",
    "        # X ekseni etiketlerini daha iyi okunabilirlik için döndürme\n",
    "        ax.set_xticklabels(ax.get_xticklabels(), rotation=45)\n",
    "    \n",
    "    plt.tight_layout()\n",
    "    plt.show()\n",
    "\n"
   ]
  },
  {
   "cell_type": "markdown",
   "metadata": {},
   "source": [
    "Sınıf dağılımını görselleştirme fonksiyonunu çağırma\n"
   ]
  },
  {
   "cell_type": "code",
   "execution_count": null,
   "metadata": {},
   "outputs": [],
   "source": [
    "plot_class_distribution(data_dir)\n",
    "\n"
   ]
  },
  {
   "cell_type": "markdown",
   "metadata": {},
   "source": [
    "## Her Sınıftan Örnek Görüntüleri Gösterme\n"
   ]
  },
  {
   "cell_type": "code",
   "execution_count": null,
   "metadata": {},
   "outputs": [],
   "source": [
    "def display_sample_images(data_dir, split='Training', num_samples=3):\n",
    "    split_dir = data_dir / split\n",
    "    class_dirs = sorted([d for d in split_dir.iterdir() if d.is_dir()])\n",
    "    \n",
    "    fig, axes = plt.subplots(len(class_dirs), num_samples, figsize=(15, 12))\n",
    "    \n",
    "    for i, class_dir in enumerate(class_dirs):\n",
    "        class_name = class_dir.name\n",
    "        image_paths = list(class_dir.glob('*.jpg'))\n",
    "        \n",
    "        # Rastgele görüntü seçme\n",
    "        selected_images = random.sample(image_paths, min(num_samples, len(image_paths)))\n",
    "        \n",
    "        for j, img_path in enumerate(selected_images):\n",
    "            img = cv2.imread(str(img_path))\n",
    "            img = cv2.cvtColor(img, cv2.COLOR_BGR2RGB)  # BGR'den RGB'ye dönüştürme\n",
    "            \n",
    "            axes[i, j].imshow(img)\n",
    "            axes[i, j].set_title(f'{class_name}')\n",
    "            axes[i, j].axis('off')\n",
    "    \n",
    "    plt.tight_layout()\n",
    "    plt.suptitle(f'{split} Setinden Örnek Görüntüler', fontsize=16, y=1.02)\n",
    "    plt.show()\n",
    "\n"
   ]
  },
  {
   "cell_type": "markdown",
   "metadata": {},
   "source": [
    "Eğitim setinden örnek görüntüleri gösterme\n"
   ]
  },
  {
   "cell_type": "code",
   "execution_count": null,
   "metadata": {},
   "outputs": [],
   "source": [
    "display_sample_images(data_dir, split='Training', num_samples=4)\n",
    "\n"
   ]
  },
  {
   "cell_type": "markdown",
   "metadata": {},
   "source": [
    "## Görüntü Özelliklerini Analiz Etme\n"
   ]
  },
  {
   "cell_type": "code",
   "execution_count": null,
   "metadata": {},
   "outputs": [],
   "source": [
    "def analyze_image_properties(data_dir, split='Training', max_per_class=100):\n",
    "    split_dir = data_dir / split\n",
    "    \n",
    "    # Görüntü özelliklerini saklamak için listeler\n",
    "    widths = []\n",
    "    heights = []\n",
    "    aspect_ratios = []\n",
    "    sizes = []  # KB cinsinden\n",
    "    classes = []\n",
    "    \n",
    "    for class_dir in split_dir.iterdir():\n",
    "        if class_dir.is_dir():\n",
    "            class_name = class_dir.name\n",
    "            img_paths = list(class_dir.glob('*.jpg'))\n",
    "            \n",
    "            # Görüntülerin bir alt kümesini örnekleme\n",
    "            selected_paths = random.sample(img_paths, min(max_per_class, len(img_paths)))\n",
    "            \n",
    "            for img_path in tqdm(selected_paths, desc=f\"{class_name} analiz ediliyor\"):\n",
    "                # KB cinsinden görüntü boyutunu alma\n",
    "                size_kb = os.path.getsize(img_path) / 1024\n",
    "                \n",
    "                # Görüntüyü açma ve boyutlarını alma\n",
    "                with Image.open(img_path) as img:\n",
    "                    width, height = img.size\n",
    "                    aspect_ratio = width / height\n",
    "                \n",
    "                # Listelere ekleme\n",
    "                widths.append(width)\n",
    "                heights.append(height)\n",
    "                aspect_ratios.append(aspect_ratio)\n",
    "                sizes.append(size_kb)\n",
    "                classes.append(class_name)\n",
    "    \n",
    "    # DataFrame oluşturma\n",
    "    df = pd.DataFrame({\n",
    "        'Class': classes,\n",
    "        'Width': widths,\n",
    "        'Height': heights,\n",
    "        'Aspect_Ratio': aspect_ratios,\n",
    "        'Size_KB': sizes\n",
    "    })\n",
    "    \n",
    "    return df\n",
    "\n"
   ]
  },
  {
   "cell_type": "markdown",
   "metadata": {},
   "source": [
    "Eğitim görüntülerinin bir alt kümesini analiz etme\n"
   ]
  },
  {
   "cell_type": "code",
   "execution_count": null,
   "metadata": {},
   "outputs": [],
   "source": [
    "image_props_df = analyze_image_properties(data_dir, split='Training', max_per_class=50)\n",
    "\n"
   ]
  },
  {
   "cell_type": "markdown",
   "metadata": {},
   "source": [
    "Temel istatistikleri görüntüleme\n"
   ]
  },
  {
   "cell_type": "code",
   "execution_count": null,
   "metadata": {},
   "outputs": [],
   "source": [
    "print(\"Görüntü özelliklerinin temel istatistikleri:\")\n",
    "print(image_props_df.describe())\n",
    "\n"
   ]
  },
  {
   "cell_type": "markdown",
   "metadata": {},
   "source": [
    "Tüm görüntülerin aynı boyutlara sahip olup olmadığını kontrol etme\n"
   ]
  },
  {
   "cell_type": "code",
   "execution_count": null,
   "metadata": {},
   "outputs": [],
   "source": [
    "unique_dimensions = image_props_df[['Width', 'Height']].drop_duplicates()\n",
    "print(f\"\\nBenzersiz görüntü boyutlarının sayısı: {len(unique_dimensions)}\")\n",
    "print(unique_dimensions.head(10))\n",
    "\n"
   ]
  },
  {
   "cell_type": "markdown",
   "metadata": {},
   "source": [
    "## Görüntü Özelliklerini Görselleştirme\n"
   ]
  },
  {
   "cell_type": "code",
   "execution_count": null,
   "metadata": {},
   "outputs": [],
   "source": [
    "def visualize_image_properties(df):\n",
    "    # Alt grafiklerle bir şekil oluşturma\n",
    "    fig, axes = plt.subplots(2, 2, figsize=(20, 16))\n",
    "    \n",
    "    # Grafik 1: Görüntü genişliklerinin dağılımı\n",
    "    sns.histplot(data=df, x='Width', hue='Class', kde=True, ax=axes[0, 0])\n",
    "    axes[0, 0].set_title('Görüntü Genişliklerinin Dağılımı', fontsize=16)\n",
    "    axes[0, 0].set_xlabel('Genişlik (piksel)', fontsize=14)\n",
    "    axes[0, 0].set_ylabel('Sayı', fontsize=14)\n",
    "    \n",
    "    # Grafik 2: Görüntü yüksekliklerinin dağılımı\n",
    "    sns.histplot(data=df, x='Height', hue='Class', kde=True, ax=axes[0, 1])\n",
    "    axes[0, 1].set_title('Görüntü Yüksekliklerinin Dağılımı', fontsize=16)\n",
    "    axes[0, 1].set_xlabel('Yükseklik (piksel)', fontsize=14)\n",
    "    axes[0, 1].set_ylabel('Sayı', fontsize=14)\n",
    "    \n",
    "    # Grafik 3: En-boy oranlarının dağılımı\n",
    "    sns.histplot(data=df, x='Aspect_Ratio', hue='Class', kde=True, ax=axes[1, 0])\n",
    "    axes[1, 0].set_title('En-Boy Oranlarının Dağılımı', fontsize=16)\n",
    "    axes[1, 0].set_xlabel('En-Boy Oranı (Genişlik/Yükseklik)', fontsize=14)\n",
    "    axes[1, 0].set_ylabel('Sayı', fontsize=14)\n",
    "    \n",
    "    # Grafik 4: Dosya boyutlarının dağılımı\n",
    "    sns.histplot(data=df, x='Size_KB', hue='Class', kde=True, ax=axes[1, 1])\n",
    "    axes[1, 1].set_title('Dosya Boyutlarının Dağılımı', fontsize=16)\n",
    "    axes[1, 1].set_xlabel('Boyut (KB)', fontsize=14)\n",
    "    axes[1, 1].set_ylabel('Sayı', fontsize=14)\n",
    "    \n",
    "    plt.tight_layout()\n",
    "    plt.show()\n",
    "    \n",
    "    # Her özellik için sınıfa göre kutu grafikleri\n",
    "    fig, axes = plt.subplots(2, 2, figsize=(20, 16))\n",
    "    \n",
    "    # Grafik 1: Sınıfa göre görüntü genişliklerinin kutu grafiği\n",
    "    sns.boxplot(data=df, x='Class', y='Width', ax=axes[0, 0])\n",
    "    axes[0, 0].set_title('Sınıfa Göre Görüntü Genişlikleri', fontsize=16)\n",
    "    axes[0, 0].set_xlabel('Sınıf', fontsize=14)\n",
    "    axes[0, 0].set_ylabel('Genişlik (piksel)', fontsize=14)\n",
    "    \n",
    "    # Grafik 2: Sınıfa göre görüntü yüksekliklerinin kutu grafiği\n",
    "    sns.boxplot(data=df, x='Class', y='Height', ax=axes[0, 1])\n",
    "    axes[0, 1].set_title('Sınıfa Göre Görüntü Yükseklikleri', fontsize=16)\n",
    "    axes[0, 1].set_xlabel('Sınıf', fontsize=14)\n",
    "    axes[0, 1].set_ylabel('Yükseklik (piksel)', fontsize=14)\n",
    "    \n",
    "    # Grafik 3: Sınıfa göre en-boy oranlarının kutu grafiği\n",
    "    sns.boxplot(data=df, x='Class', y='Aspect_Ratio', ax=axes[1, 0])\n",
    "    axes[1, 0].set_title('Sınıfa Göre En-Boy Oranları', fontsize=16)\n",
    "    axes[1, 0].set_xlabel('Sınıf', fontsize=14)\n",
    "    axes[1, 0].set_ylabel('En-Boy Oranı (Genişlik/Yükseklik)', fontsize=14)\n",
    "    \n",
    "    # Grafik 4: Sınıfa göre dosya boyutlarının kutu grafiği\n",
    "    sns.boxplot(data=df, x='Class', y='Size_KB', ax=axes[1, 1])\n",
    "    axes[1, 1].set_title('Sınıfa Göre Dosya Boyutları', fontsize=16)\n",
    "    axes[1, 1].set_xlabel('Sınıf', fontsize=14)\n",
    "    axes[1, 1].set_ylabel('Boyut (KB)', fontsize=14)\n",
    "    \n",
    "    plt.tight_layout()\n",
    "    plt.show()\n",
    "\n"
   ]
  },
  {
   "cell_type": "markdown",
   "metadata": {},
   "source": [
    "Görüntü özelliklerini görselleştirme\n"
   ]
  },
  {
   "cell_type": "code",
   "execution_count": null,
   "metadata": {},
   "outputs": [],
   "source": [
    "visualize_image_properties(image_props_df)\n",
    "\n"
   ]
  },
  {
   "cell_type": "markdown",
   "metadata": {},
   "source": [
    "## Piksel Yoğunluğu Analizi\n"
   ]
  },
  {
   "cell_type": "code",
   "execution_count": null,
   "metadata": {},
   "outputs": [],
   "source": [
    "def analyze_pixel_intensities(data_dir, split='Training', num_samples=25):\n",
    "    split_dir = data_dir / split\n",
    "    class_dirs = sorted([d for d in split_dir.iterdir() if d.is_dir()])\n",
    "    \n",
    "    # Her sınıf için ortalama piksel yoğunluklarını saklamak için sözlük\n",
    "    class_intensities = {}\n",
    "    \n",
    "    for class_dir in class_dirs:\n",
    "        class_name = class_dir.name\n",
    "        image_paths = list(class_dir.glob('*.jpg'))\n",
    "        \n",
    "        # Rastgele görüntü seçme\n",
    "        selected_images = random.sample(image_paths, min(num_samples, len(image_paths)))\n",
    "        \n",
    "        # Bu sınıf için ortalama yoğunlukları saklamak için liste\n",
    "        intensities = []\n",
    "        \n",
    "        for img_path in selected_images:\n",
    "            # Görüntüyü gri tonlamalı olarak okuma\n",
    "            img = cv2.imread(str(img_path), cv2.IMREAD_GRAYSCALE)\n",
    "            \n",
    "            # Ortalama piksel yoğunluğunu hesaplama\n",
    "            mean_intensity = np.mean(img)\n",
    "            intensities.append(mean_intensity)\n",
    "        \n",
    "        class_intensities[class_name] = intensities\n",
    "    \n",
    "    # DataFrame oluşturma\n",
    "    intensity_df = pd.DataFrame(class_intensities)\n",
    "    \n",
    "    # Ortalama piksel yoğunluklarının dağılımını çizme\n",
    "    plt.figure(figsize=(14, 8))\n",
    "    \n",
    "    # Keman grafikleri oluşturma\n",
    "    sns.violinplot(data=intensity_df, palette='viridis')\n",
    "    \n",
    "    plt.title('Sınıfa Göre Ortalama Piksel Yoğunluklarının Dağılımı', fontsize=16)\n",
    "    plt.xlabel('Sınıf', fontsize=14)\n",
    "    plt.ylabel('Ortalama Piksel Yoğunluğu', fontsize=14)\n",
    "    plt.grid(axis='y', linestyle='--', alpha=0.7)\n",
    "    \n",
    "    plt.show()\n",
    "    \n",
    "    return intensity_df\n",
    "\n"
   ]
  },
  {
   "cell_type": "markdown",
   "metadata": {},
   "source": [
    "Piksel yoğunluklarını analiz etme\n"
   ]
  },
  {
   "cell_type": "code",
   "execution_count": null,
   "metadata": {},
   "outputs": [],
   "source": [
    "intensity_df = analyze_pixel_intensities(data_dir, split='Training', num_samples=25)\n",
    "\n"
   ]
  },
  {
   "cell_type": "markdown",
   "metadata": {},
   "source": [
    "## Görüntü Ön İşleme Örneği\n"
   ]
  },
  {
   "cell_type": "code",
   "execution_count": null,
   "metadata": {},
   "outputs": [],
   "source": [
    "def preprocess_image(img_path, target_size=(224, 224)):\n",
    "    # Görüntüyü okuma\n",
    "    img = cv2.imread(str(img_path))\n",
    "    img = cv2.cvtColor(img, cv2.COLOR_BGR2RGB)  # BGR'den RGB'ye dönüştürme\n",
    "    \n",
    "    # Görüntüyü yeniden boyutlandırma\n",
    "    img_resized = cv2.resize(img, target_size)\n",
    "    \n",
    "    # Piksel değerlerini [0, 1] aralığına normalize etme\n",
    "    img_normalized = img_resized / 255.0\n",
    "    \n",
    "    return img, img_resized, img_normalized\n",
    "\n",
    "def show_preprocessing_steps(data_dir, split='Training'):\n",
    "    split_dir = data_dir / split\n",
    "    class_dirs = sorted([d for d in split_dir.iterdir() if d.is_dir()])\n",
    "    \n",
    "    # Rastgele bir sınıf seçme\n",
    "    class_dir = random.choice(class_dirs)\n",
    "    class_name = class_dir.name\n",
    "    \n",
    "    # Rastgele bir görüntü seçme\n",
    "    img_path = random.choice(list(class_dir.glob('*.jpg')))\n",
    "    \n",
    "    # Görüntüyü ön işleme\n",
    "    original, resized, normalized = preprocess_image(img_path)\n",
    "    \n",
    "    # Ön işleme adımlarını gösterme\n",
    "    fig, axes = plt.subplots(1, 3, figsize=(18, 6))\n",
    "    \n",
    "    # Orijinal görüntü\n",
    "    axes[0].imshow(original)\n",
    "    axes[0].set_title(f'Orijinal Görüntü\\n{class_name}\\nBoyut: {original.shape[1]}x{original.shape[0]}', fontsize=14)\n",
    "    axes[0].axis('off')\n",
    "    \n",
    "    # Yeniden boyutlandırılmış görüntü\n",
    "    axes[1].imshow(resized)\n",
    "    axes[1].set_title(f'Yeniden Boyutlandırılmış Görüntü\\nBoyut: {resized.shape[1]}x{resized.shape[0]}', fontsize=14)\n",
    "    axes[1].axis('off')\n",
    "    \n",
    "    # Normalize edilmiş görüntü\n",
    "    axes[2].imshow(normalized)\n",
    "    axes[2].set_title('Normalize Edilmiş Görüntü\\nPiksel Değerleri: [0, 1]', fontsize=14)\n",
    "    axes[2].axis('off')\n",
    "    \n",
    "    plt.tight_layout()\n",
    "    plt.suptitle('Görüntü Ön İşleme Adımları', fontsize=16, y=1.02)\n",
    "    plt.show()\n",
    "\n"
   ]
  },
  {
   "cell_type": "markdown",
   "metadata": {},
   "source": [
    "Ön işleme adımlarını gösterme\n"
   ]
  },
  {
   "cell_type": "code",
   "execution_count": null,
   "metadata": {},
   "outputs": [],
   "source": [
    "show_preprocessing_steps(data_dir, split='Training')\n",
    "\n"
   ]
  },
  {
   "cell_type": "markdown",
   "metadata": {},
   "source": [
    "## Renk Histogramları Analizi\n"
   ]
  },
  {
   "cell_type": "code",
   "execution_count": null,
   "metadata": {},
   "outputs": [],
   "source": [
    "def analyze_color_histograms(data_dir, split='Training'):\n",
    "    split_dir = data_dir / split\n",
    "    class_dirs = sorted([d for d in split_dir.iterdir() if d.is_dir()])\n",
    "    \n",
    "    # Bir şekil oluşturma\n",
    "    fig, axes = plt.subplots(len(class_dirs), 3, figsize=(18, 5*len(class_dirs)))\n",
    "    \n",
    "    for i, class_dir in enumerate(class_dirs):\n",
    "        class_name = class_dir.name\n",
    "        \n",
    "        # Rastgele bir görüntü seçme\n",
    "        img_path = random.choice(list(class_dir.glob('*.jpg')))\n",
    "        \n",
    "        # Görüntüyü okuma\n",
    "        img = cv2.imread(str(img_path))\n",
    "        img = cv2.cvtColor(img, cv2.COLOR_BGR2RGB)\n",
    "        \n",
    "        # Görüntüyü gösterme\n",
    "        axes[i, 0].imshow(img)\n",
    "        axes[i, 0].set_title(f'{class_name} Örneği', fontsize=14)\n",
    "        axes[i, 0].axis('off')\n",
    "        \n",
    "        # Histogramları hesaplama\n",
    "        color = ('r', 'g', 'b')\n",
    "        for j, col in enumerate(color):\n",
    "            hist = cv2.calcHist([img], [j], None, [256], [0, 256])\n",
    "            axes[i, 1].plot(hist, color=col)\n",
    "            axes[i, 1].set_xlim([0, 256])\n",
    "        \n",
    "        axes[i, 1].set_title('RGB Histogramı', fontsize=14)\n",
    "        axes[i, 1].grid(alpha=0.3)\n",
    "        \n",
    "        # Gri tonlamalı histogram\n",
    "        img_gray = cv2.cvtColor(img, cv2.COLOR_RGB2GRAY)\n",
    "        hist_gray = cv2.calcHist([img_gray], [0], None, [256], [0, 256])\n",
    "        axes[i, 2].plot(hist_gray, color='k')\n",
    "        axes[i, 2].set_xlim([0, 256])\n",
    "        axes[i, 2].set_title('Gri Tonlamalı Histogram', fontsize=14)\n",
    "        axes[i, 2].grid(alpha=0.3)\n",
    "    \n",
    "    plt.tight_layout()\n",
    "    plt.show()\n",
    "\n"
   ]
  },
  {
   "cell_type": "markdown",
   "metadata": {},
   "source": [
    "Renk histogramlarını analiz etme\n"
   ]
  },
  {
   "cell_type": "code",
   "execution_count": null,
   "metadata": {},
   "outputs": [],
   "source": [
    "analyze_color_histograms(data_dir, split='Training')\n",
    "\n"
   ]
  },
  {
   "cell_type": "markdown",
   "metadata": {},
   "source": [
    "## Veri Artırma Örnekleri\n"
   ]
  },
  {
   "cell_type": "code",
   "execution_count": null,
   "metadata": {},
   "outputs": [],
   "source": [
    "def show_data_augmentation_examples(data_dir, split='Training'):\n",
    "    split_dir = data_dir / split\n",
    "    class_dirs = sorted([d for d in split_dir.iterdir() if d.is_dir()])\n",
    "    \n",
    "    # Rastgele bir sınıf seçme\n",
    "    class_dir = random.choice(class_dirs)\n",
    "    class_name = class_dir.name\n",
    "    \n",
    "    # Rastgele bir görüntü seçme\n",
    "    img_path = random.choice(list(class_dir.glob('*.jpg')))\n",
    "    \n",
    "    # Görüntüyü okuma ve yeniden boyutlandırma\n",
    "    img = cv2.imread(str(img_path))\n",
    "    img = cv2.cvtColor(img, cv2.COLOR_BGR2RGB)\n",
    "    img = cv2.resize(img, (224, 224))\n",
    "    \n",
    "    # Veri artırma örnekleri\n",
    "    # 1. Döndürme\n",
    "    rows, cols = img.shape[:2]\n",
    "    M1 = cv2.getRotationMatrix2D((cols/2, rows/2), 15, 1)\n",
    "    img_rotated_15 = cv2.warpAffine(img, M1, (cols, rows))\n",
    "    \n",
    "    M2 = cv2.getRotationMatrix2D((cols/2, rows/2), -15, 1)\n",
    "    img_rotated_neg15 = cv2.warpAffine(img, M2, (cols, rows))\n",
    "    \n",
    "    # 2. Yatay çevirme\n",
    "    img_flipped_h = cv2.flip(img, 1)\n",
    "    \n",
    "    # 3. Dikey çevirme\n",
    "    img_flipped_v = cv2.flip(img, 0)\n",
    "    \n",
    "    # 4. Parlaklık ayarlama\n",
    "    img_bright = cv2.convertScaleAbs(img, alpha=1.2, beta=10)\n",
    "    img_dark = cv2.convertScaleAbs(img, alpha=0.8, beta=-10)\n",
    "    \n",
    "    # 5. Zoom\n",
    "    zoom_factor = 0.8\n",
    "    zoomed_h, zoomed_w = int(rows * zoom_factor), int(cols * zoom_factor)\n",
    "    y_offset = (rows - zoomed_h) // 2\n",
    "    x_offset = (cols - zoomed_w) // 2\n",
    "    \n",
    "    img_zoomed = cv2.resize(img, (zoomed_w, zoomed_h))\n",
    "    img_zoomed_padded = np.zeros_like(img)\n",
    "    img_zoomed_padded[y_offset:y_offset+zoomed_h, x_offset:x_offset+zoomed_w] = img_zoomed\n",
    "    \n",
    "    # Veri artırma örneklerini gösterme\n",
    "    fig, axes = plt.subplots(2, 4, figsize=(20, 10))\n",
    "    \n",
    "    # Orijinal görüntü\n",
    "    axes[0, 0].imshow(img)\n",
    "    axes[0, 0].set_title(f'Orijinal Görüntü\\n{class_name}', fontsize=14)\n",
    "    axes[0, 0].axis('off')\n",
    "    \n",
    "    # Döndürülmüş görüntüler\n",
    "    axes[0, 1].imshow(img_rotated_15)\n",
    "    axes[0, 1].set_title('Döndürme (+15 derece)', fontsize=14)\n",
    "    axes[0, 1].axis('off')\n",
    "    \n",
    "    axes[0, 2].imshow(img_rotated_neg15)\n",
    "    axes[0, 2].set_title('Döndürme (-15 derece)', fontsize=14)\n",
    "    axes[0, 2].axis('off')\n",
    "    \n",
    "    # Yatay çevrilmiş görüntü\n",
    "    axes[0, 3].imshow(img_flipped_h)\n",
    "    axes[0, 3].set_title('Yatay Çevirme', fontsize=14)\n",
    "    axes[0, 3].axis('off')\n",
    "    \n",
    "    # Dikey çevrilmiş görüntü\n",
    "    axes[1, 0].imshow(img_flipped_v)\n",
    "    axes[1, 0].set_title('Dikey Çevirme', fontsize=14)\n",
    "    axes[1, 0].axis('off')\n",
    "    \n",
    "    # Parlaklık ayarlanmış görüntüler\n",
    "    axes[1, 1].imshow(img_bright)\n",
    "    axes[1, 1].set_title('Parlaklık Artırma', fontsize=14)\n",
    "    axes[1, 1].axis('off')\n",
    "    \n",
    "    axes[1, 2].imshow(img_dark)\n",
    "    axes[1, 2].set_title('Parlaklık Azaltma', fontsize=14)\n",
    "    axes[1, 2].axis('off')\n",
    "    \n",
    "    # Zoom yapılmış görüntü\n",
    "    axes[1, 3].imshow(img_zoomed_padded)\n",
    "    axes[1, 3].set_title('Zoom', fontsize=14)\n",
    "    axes[1, 3].axis('off')\n",
    "    \n",
    "    plt.tight_layout()\n",
    "    plt.suptitle('Veri Artırma Örnekleri', fontsize=16, y=1.02)\n",
    "    plt.show()\n",
    "\n"
   ]
  },
  {
   "cell_type": "markdown",
   "metadata": {},
   "source": [
    "Veri artırma örneklerini gösterme\n"
   ]
  },
  {
   "cell_type": "code",
   "execution_count": null,
   "metadata": {},
   "outputs": [],
   "source": [
    "show_data_augmentation_examples(data_dir, split='Training')\n",
    "\n"
   ]
  },
  {
   "cell_type": "markdown",
   "metadata": {},
   "source": [
    "## Analiz Sonuçları\n"
   ]
  },
  {
   "cell_type": "markdown",
   "metadata": {},
   "source": [
    "Veri seti analizi sonucunda aşağıdaki bulgular elde edilmiştir:\n"
   ]
  },
  {
   "cell_type": "markdown",
   "metadata": {},
   "source": [
    "\n"
   ]
  },
  {
   "cell_type": "markdown",
   "metadata": {},
   "source": [
    "1. **Veri Seti Yapısı**:\n"
   ]
  },
  {
   "cell_type": "markdown",
   "metadata": {},
   "source": [
    "   - Veri seti Eğitim ve Test setlerine ayrılmıştır\n"
   ]
  },
  {
   "cell_type": "markdown",
   "metadata": {},
   "source": [
    "   - Dört sınıf vardır: glioma, meningioma, no tumor ve pituitary\n"
   ]
  },
  {
   "cell_type": "markdown",
   "metadata": {},
   "source": [
    "   - Toplam 7023 görüntü bulunmaktadır (Eğitim: 5712, Test: 1311)\n"
   ]
  },
  {
   "cell_type": "markdown",
   "metadata": {},
   "source": [
    "\n"
   ]
  },
  {
   "cell_type": "markdown",
   "metadata": {},
   "source": [
    "2. **Sınıf Dağılımı**:\n"
   ]
  },
  {
   "cell_type": "markdown",
   "metadata": {},
   "source": [
    "   - Eğitim seti:\n"
   ]
  },
  {
   "cell_type": "markdown",
   "metadata": {},
   "source": [
    "     - glioma: 1321 görüntü\n"
   ]
  },
  {
   "cell_type": "markdown",
   "metadata": {},
   "source": [
    "     - meningioma: 1339 görüntü\n"
   ]
  },
  {
   "cell_type": "markdown",
   "metadata": {},
   "source": [
    "     - no tumor: 1595 görüntü\n"
   ]
  },
  {
   "cell_type": "markdown",
   "metadata": {},
   "source": [
    "     - pituitary: 1457 görüntü\n"
   ]
  },
  {
   "cell_type": "markdown",
   "metadata": {},
   "source": [
    "   - Test seti:\n"
   ]
  },
  {
   "cell_type": "markdown",
   "metadata": {},
   "source": [
    "     - glioma: 300 görüntü\n"
   ]
  },
  {
   "cell_type": "markdown",
   "metadata": {},
   "source": [
    "     - meningioma: 306 görüntü\n"
   ]
  },
  {
   "cell_type": "markdown",
   "metadata": {},
   "source": [
    "     - no tumor: 405 görüntü\n"
   ]
  },
  {
   "cell_type": "markdown",
   "metadata": {},
   "source": [
    "     - pituitary: 300 görüntü\n"
   ]
  },
  {
   "cell_type": "markdown",
   "metadata": {},
   "source": [
    "\n"
   ]
  },
  {
   "cell_type": "markdown",
   "metadata": {},
   "source": [
    "3. **Görüntü Özellikleri**:\n"
   ]
  },
  {
   "cell_type": "markdown",
   "metadata": {},
   "source": [
    "   - Görüntüler farklı boyutlara sahiptir (72 farklı boyut)\n"
   ]
  },
  {
   "cell_type": "markdown",
   "metadata": {},
   "source": [
    "   - Genişlik aralığı: 150-1024 piksel\n"
   ]
  },
  {
   "cell_type": "markdown",
   "metadata": {},
   "source": [
    "   - Yükseklik aralığı: 168-1075 piksel\n"
   ]
  },
  {
   "cell_type": "markdown",
   "metadata": {},
   "source": [
    "   - Ortalama en-boy oranı yaklaşık 1.0'dır (çoğunlukla kare şeklinde)\n"
   ]
  },
  {
   "cell_type": "markdown",
   "metadata": {},
   "source": [
    "\n"
   ]
  },
  {
   "cell_type": "markdown",
   "metadata": {},
   "source": [
    "4. **Piksel Yoğunluğu Analizi**:\n"
   ]
  },
  {
   "cell_type": "markdown",
   "metadata": {},
   "source": [
    "   - Sınıflar arasında piksel yoğunluğu dağılımlarında farklılıklar bulunmaktadır\n"
   ]
  },
  {
   "cell_type": "markdown",
   "metadata": {},
   "source": [
    "   - Bu farklılıklar, model eğitimi için faydalı özellikler sağlayabilir\n"
   ]
  },
  {
   "cell_type": "markdown",
   "metadata": {},
   "source": [
    "\n"
   ]
  },
  {
   "cell_type": "markdown",
   "metadata": {},
   "source": [
    "5. **Ön İşleme Önerileri**:\n"
   ]
  },
  {
   "cell_type": "markdown",
   "metadata": {},
   "source": [
    "   - Analiz sonuçlarına dayanarak, aşağıdaki ön işleme adımları önerilmektedir:\n"
   ]
  },
  {
   "cell_type": "markdown",
   "metadata": {},
   "source": [
    "     - Tüm görüntüleri standart bir boyuta (örn. 224x224) yeniden boyutlandırma\n"
   ]
  },
  {
   "cell_type": "markdown",
   "metadata": {},
   "source": [
    "     - Piksel değerlerini [0, 1] aralığına normalize etme\n"
   ]
  },
  {
   "cell_type": "markdown",
   "metadata": {},
   "source": [
    "     - Veri çeşitliliğini artırmak için veri artırma teknikleri uygulama\n"
   ]
  },
  {
   "cell_type": "markdown",
   "metadata": {},
   "source": [
    "     - Döndürme, çevirme, yakınlaştırma gibi veri artırma teknikleri kullanma\n"
   ]
  },
  {
   "cell_type": "markdown",
   "metadata": {},
   "source": [
    "\n"
   ]
  },
  {
   "cell_type": "markdown",
   "metadata": {},
   "source": [
    "6. **Sonraki Adımlar**:\n"
   ]
  },
  {
   "cell_type": "markdown",
   "metadata": {},
   "source": [
    "   - CNN modeli geliştirme\n"
   ]
  },
  {
   "cell_type": "markdown",
   "metadata": {},
   "source": [
    "   - Veri artırma uygulama\n"
   ]
  },
  {
   "cell_type": "markdown",
   "metadata": {},
   "source": [
    "   - Model performansını test setinde değerlendirme\n"
   ]
  },
  {
   "cell_type": "markdown",
   "metadata": {},
   "source": [
    "   - Yeni MR görüntülerini analiz edebilen ve tanı bilgisi sağlayan bir uygulama oluşturma\n"
   ]
  }
 ],
 "metadata": {
  "kernelspec": {
   "display_name": "Python 3",
   "language": "python",
   "name": "python3"
  },
  "language_info": {
   "codemirror_mode": {
    "name": "ipython",
    "version": 3
   },
   "file_extension": ".py",
   "mimetype": "text/x-python",
   "name": "python",
   "nbconvert_exporter": "python",
   "pygments_lexer": "ipython3",
   "version": "3.8.10"
  }
 },
 "nbformat": 4,
 "nbformat_minor": 4
}
